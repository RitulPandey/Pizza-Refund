{
 "cells": [
  {
   "cell_type": "code",
   "execution_count": 2,
   "metadata": {
    "executionInfo": {
     "elapsed": 10748,
     "status": "ok",
     "timestamp": 1680951612168,
     "user": {
      "displayName": "Ritul Pandey",
      "userId": "12925011495414714550"
     },
     "user_tz": -330
    },
    "id": "zhixa9SO7fYW"
   },
   "outputs": [],
   "source": [
    "import matplotlib as plt\n",
    "import matplotlib.pyplot as plt\n",
    "%matplotlib inline\n",
    "from tensorflow.keras.utils import to_categorical\n",
    "from sklearn.model_selection import train_test_split\n",
    "from sklearn.metrics import confusion_matrix , accuracy_score, classification_report\n",
    "from tensorflow.keras.models import Sequential\n",
    "from tensorflow.keras.layers import Dense, Dropout\n",
    "from tensorflow.keras.optimizers import SGD\n",
    "from imutils import paths\n",
    "import numpy as np\n",
    "import pandas as pd\n",
    "import random\n",
    "import pickle\n",
    "import cv2\n",
    "import os\n",
    "import time \n",
    "import warnings\n",
    "from tqdm import tqdm_notebook as tqdm\n",
    "import itertools\n",
    "\n",
    "warnings.filterwarnings(\"ignore\")\n",
    "SEED = 42   "
   ]
  },
  {
   "cell_type": "code",
   "execution_count": 3,
   "metadata": {
    "colab": {
     "base_uri": "https://localhost:8080/"
    },
    "executionInfo": {
     "elapsed": 6180,
     "status": "ok",
     "timestamp": 1680951618338,
     "user": {
      "displayName": "Ritul Pandey",
      "userId": "12925011495414714550"
     },
     "user_tz": -330
    },
    "id": "74mszn5O8BK3",
    "outputId": "873c11e0-5788-4b1c-de15-799246ce11ac"
   },
   "outputs": [
    {
     "name": "stdout",
     "output_type": "stream",
     "text": [
      "Looking in indexes: https://pypi.org/simple, https://us-python.pkg.dev/colab-wheels/public/simple/\n",
      "Collecting patool\n",
      "  Downloading patool-1.12-py2.py3-none-any.whl (77 kB)\n",
      "\u001b[2K     \u001b[90m━━━━━━━━━━━━━━━━━━━━━━━━━━━━━━━━━━━━━━━━\u001b[0m \u001b[32m77.5/77.5 KB\u001b[0m \u001b[31m7.6 MB/s\u001b[0m eta \u001b[36m0:00:00\u001b[0m\n",
      "\u001b[?25hInstalling collected packages: patool\n",
      "Successfully installed patool-1.12\n"
     ]
    }
   ],
   "source": [
    "!pip install patool\n",
    "import patoolib"
   ]
  },
  {
   "cell_type": "code",
   "execution_count": 4,
   "metadata": {
    "colab": {
     "base_uri": "https://localhost:8080/"
    },
    "executionInfo": {
     "elapsed": 22586,
     "status": "ok",
     "timestamp": 1680951640921,
     "user": {
      "displayName": "Ritul Pandey",
      "userId": "12925011495414714550"
     },
     "user_tz": -330
    },
    "id": "YNUQmwAQ9Yzs",
    "outputId": "6dec0ae0-8aa2-4970-a981-86a8b34f6372"
   },
   "outputs": [
    {
     "name": "stdout",
     "output_type": "stream",
     "text": [
      "Mounted at /content/drive\n"
     ]
    }
   ],
   "source": [
    "from google.colab import drive\n",
    "drive.mount('/content/drive')"
   ]
  },
  {
   "cell_type": "code",
   "execution_count": 5,
   "metadata": {
    "executionInfo": {
     "elapsed": 707,
     "status": "ok",
     "timestamp": 1680951644577,
     "user": {
      "displayName": "Ritul Pandey",
      "userId": "12925011495414714550"
     },
     "user_tz": -330
    },
    "id": "ejwKuAnp9jyF"
   },
   "outputs": [],
   "source": [
    "import os\n",
    "os.chdir(\"/content/drive/MyDrive/Deep Learning/1.ANN/ANN\")"
   ]
  },
  {
   "cell_type": "code",
   "execution_count": 6,
   "metadata": {
    "colab": {
     "base_uri": "https://localhost:8080/"
    },
    "executionInfo": {
     "elapsed": 4036,
     "status": "ok",
     "timestamp": 1680951650026,
     "user": {
      "displayName": "Ritul Pandey",
      "userId": "12925011495414714550"
     },
     "user_tz": -330
    },
    "id": "Na6LVxCFKrkB",
    "outputId": "ae337406-874d-4e35-861d-9610af6a6f1f"
   },
   "outputs": [
    {
     "data": {
      "text/plain": [
       "['Pizza Refund/test/test_img (25).jpg',\n",
       " 'Pizza Refund/test/test_img (22).jpg',\n",
       " 'Pizza Refund/test/test_img (2).jpeg',\n",
       " 'Pizza Refund/test/test_img (21).jpg',\n",
       " 'Pizza Refund/test/test_img (3).jpg',\n",
       " 'Pizza Refund/test/test_img (23).jpg',\n",
       " 'Pizza Refund/test/test_img (26).jpg',\n",
       " 'Pizza Refund/test/test_img (10).jpeg',\n",
       " 'Pizza Refund/test/test_img (5).jpeg',\n",
       " 'Pizza Refund/test/test_img (16).jpg',\n",
       " 'Pizza Refund/test/test_img (2).jpg',\n",
       " 'Pizza Refund/test/test_img (10).jpg',\n",
       " 'Pizza Refund/test/test_img (4).jpeg',\n",
       " 'Pizza Refund/test/test_img (13).jpg',\n",
       " 'Pizza Refund/test/test_img (13).jpeg',\n",
       " 'Pizza Refund/test/test_img (15).jpg',\n",
       " 'Pizza Refund/test/test_img (14).jpeg',\n",
       " 'Pizza Refund/test/test_img (24).jpg',\n",
       " 'Pizza Refund/test/test_img (27).jpg',\n",
       " 'Pizza Refund/test/test_img (1).jpg',\n",
       " 'Pizza Refund/test/test_img (12).jpg',\n",
       " 'Pizza Refund/test/test_img (18).jpg',\n",
       " 'Pizza Refund/test/test_img (11).jpg',\n",
       " 'Pizza Refund/test/test_img (11).jpeg',\n",
       " 'Pizza Refund/test/test_img (14).jpg',\n",
       " 'Pizza Refund/test/test_img (19).jpg',\n",
       " 'Pizza Refund/test/test_img (20).jpg',\n",
       " 'Pizza Refund/test/test_img (17).jpg',\n",
       " 'Pizza Refund/test/test_img (1).jpeg',\n",
       " 'Pizza Refund/test/test_img (4).jpg',\n",
       " 'Pizza Refund/test/test_img (3).jpeg',\n",
       " 'Pizza Refund/test/test_img (8).jpeg',\n",
       " 'Pizza Refund/test/test_img (7).jpeg',\n",
       " 'Pizza Refund/test/test_img (6).jpeg',\n",
       " 'Pizza Refund/test/test_img (5).jpg',\n",
       " 'Pizza Refund/test/test_img (6).jpg',\n",
       " 'Pizza Refund/test/test_img (9).jpeg',\n",
       " 'Pizza Refund/test/test_img (8).jpg',\n",
       " 'Pizza Refund/test/test_img (7).jpg',\n",
       " 'Pizza Refund/test/test_img (9).jpg',\n",
       " 'Pizza Refund/train/Burnt_pizza/burnt_pizza (10).jpg',\n",
       " 'Pizza Refund/train/Burnt_pizza/burnt_pizza (104).jpeg',\n",
       " 'Pizza Refund/train/Burnt_pizza/burnt_pizza (107).jpeg',\n",
       " 'Pizza Refund/train/Burnt_pizza/burnt_pizza (102).jpeg',\n",
       " 'Pizza Refund/train/Burnt_pizza/burnt_pizza (109).jpg',\n",
       " 'Pizza Refund/train/Burnt_pizza/burnt_pizza (100).jpg',\n",
       " 'Pizza Refund/train/Burnt_pizza/burnt_pizza (101).jpeg',\n",
       " 'Pizza Refund/train/Burnt_pizza/burnt_pizza (1).jpg',\n",
       " 'Pizza Refund/train/Burnt_pizza/burnt_pizza (107).jpg',\n",
       " 'Pizza Refund/train/Burnt_pizza/burnt_pizza (102).jpg',\n",
       " 'Pizza Refund/train/Burnt_pizza/burnt_pizza (108).jpeg',\n",
       " 'Pizza Refund/train/Burnt_pizza/burnt_pizza (10).png',\n",
       " 'Pizza Refund/train/Burnt_pizza/burnt_pizza (100).jpeg',\n",
       " 'Pizza Refund/train/Burnt_pizza/burnt_pizza (105).jpeg',\n",
       " 'Pizza Refund/train/Burnt_pizza/burnt_pizza (106).jpg',\n",
       " 'Pizza Refund/train/Burnt_pizza/burnt_pizza (108).jpg',\n",
       " 'Pizza Refund/train/Burnt_pizza/burnt_pizza (106).jpeg',\n",
       " 'Pizza Refund/train/Burnt_pizza/burnt_pizza (11).jpeg',\n",
       " 'Pizza Refund/train/Burnt_pizza/burnt_pizza (1).jpeg',\n",
       " 'Pizza Refund/train/Burnt_pizza/burnt_pizza (103).jpg',\n",
       " 'Pizza Refund/train/Burnt_pizza/burnt_pizza (109).jpeg',\n",
       " 'Pizza Refund/train/Burnt_pizza/burnt_pizza (105).jpg',\n",
       " 'Pizza Refund/train/Burnt_pizza/burnt_pizza (104).jpg',\n",
       " 'Pizza Refund/train/Burnt_pizza/burnt_pizza (101).jpg',\n",
       " 'Pizza Refund/train/Burnt_pizza/burnt_pizza (1).png',\n",
       " 'Pizza Refund/train/Burnt_pizza/burnt_pizza (103).jpeg',\n",
       " 'Pizza Refund/train/Burnt_pizza/burnt_pizza (10).jpeg',\n",
       " 'Pizza Refund/train/Burnt_pizza/burnt_pizza (113).jpg',\n",
       " 'Pizza Refund/train/Burnt_pizza/burnt_pizza (110).jpg',\n",
       " 'Pizza Refund/train/Burnt_pizza/burnt_pizza (13).jpeg',\n",
       " 'Pizza Refund/train/Burnt_pizza/burnt_pizza (123).jpg',\n",
       " 'Pizza Refund/train/Burnt_pizza/burnt_pizza (115).jpg',\n",
       " 'Pizza Refund/train/Burnt_pizza/burnt_pizza (11).png',\n",
       " 'Pizza Refund/train/Burnt_pizza/burnt_pizza (126).jpg',\n",
       " 'Pizza Refund/train/Burnt_pizza/burnt_pizza (136).jpg',\n",
       " 'Pizza Refund/train/Burnt_pizza/burnt_pizza (118).jpg',\n",
       " 'Pizza Refund/train/Burnt_pizza/burnt_pizza (12).png',\n",
       " 'Pizza Refund/train/Burnt_pizza/burnt_pizza (112).jpg',\n",
       " 'Pizza Refund/train/Burnt_pizza/burnt_pizza (111).jpg',\n",
       " 'Pizza Refund/train/Burnt_pizza/burnt_pizza (122).jpg',\n",
       " 'Pizza Refund/train/Burnt_pizza/burnt_pizza (132).jpg',\n",
       " 'Pizza Refund/train/Burnt_pizza/burnt_pizza (130).jpg',\n",
       " 'Pizza Refund/train/Burnt_pizza/burnt_pizza (120).jpg',\n",
       " 'Pizza Refund/train/Burnt_pizza/burnt_pizza (137).jpg',\n",
       " 'Pizza Refund/train/Burnt_pizza/burnt_pizza (110).jpeg',\n",
       " 'Pizza Refund/train/Burnt_pizza/burnt_pizza (121).jpg',\n",
       " 'Pizza Refund/train/Burnt_pizza/burnt_pizza (128).jpg',\n",
       " 'Pizza Refund/train/Burnt_pizza/burnt_pizza (131).jpg',\n",
       " 'Pizza Refund/train/Burnt_pizza/burnt_pizza (129).jpg',\n",
       " 'Pizza Refund/train/Burnt_pizza/burnt_pizza (116).jpg',\n",
       " 'Pizza Refund/train/Burnt_pizza/burnt_pizza (119).jpg',\n",
       " 'Pizza Refund/train/Burnt_pizza/burnt_pizza (124).jpg',\n",
       " 'Pizza Refund/train/Burnt_pizza/burnt_pizza (135).jpg',\n",
       " 'Pizza Refund/train/Burnt_pizza/burnt_pizza (12).jpg',\n",
       " 'Pizza Refund/train/Burnt_pizza/burnt_pizza (13).jpg',\n",
       " 'Pizza Refund/train/Burnt_pizza/burnt_pizza (134).jpg',\n",
       " 'Pizza Refund/train/Burnt_pizza/burnt_pizza (127).jpg',\n",
       " 'Pizza Refund/train/Burnt_pizza/burnt_pizza (12).jpeg',\n",
       " 'Pizza Refund/train/Burnt_pizza/burnt_pizza (11).jpg',\n",
       " 'Pizza Refund/train/Burnt_pizza/burnt_pizza (114).jpg',\n",
       " 'Pizza Refund/train/Burnt_pizza/burnt_pizza (125).jpg',\n",
       " 'Pizza Refund/train/Burnt_pizza/burnt_pizza (133).jpg',\n",
       " 'Pizza Refund/train/Burnt_pizza/burnt_pizza (117).jpg',\n",
       " 'Pizza Refund/train/Burnt_pizza/burnt_pizza (151).jpg',\n",
       " 'Pizza Refund/train/Burnt_pizza/burnt_pizza (2).png',\n",
       " 'Pizza Refund/train/Burnt_pizza/burnt_pizza (18).jpeg',\n",
       " 'Pizza Refund/train/Burnt_pizza/burnt_pizza (15).jpeg',\n",
       " 'Pizza Refund/train/Burnt_pizza/burnt_pizza (139).jpg',\n",
       " 'Pizza Refund/train/Burnt_pizza/burnt_pizza (152).jpg',\n",
       " 'Pizza Refund/train/Burnt_pizza/burnt_pizza (153).jpg',\n",
       " 'Pizza Refund/train/Burnt_pizza/burnt_pizza (148).jpg',\n",
       " 'Pizza Refund/train/Burnt_pizza/burnt_pizza (17).jpg',\n",
       " 'Pizza Refund/train/Burnt_pizza/burnt_pizza (2).jpg',\n",
       " 'Pizza Refund/train/Burnt_pizza/burnt_pizza (154).jpg',\n",
       " 'Pizza Refund/train/Burnt_pizza/burnt_pizza (143).jpg',\n",
       " 'Pizza Refund/train/Burnt_pizza/burnt_pizza (19).jpeg',\n",
       " 'Pizza Refund/train/Burnt_pizza/burnt_pizza (147).jpg',\n",
       " 'Pizza Refund/train/Burnt_pizza/burnt_pizza (18).jpg',\n",
       " 'Pizza Refund/train/Burnt_pizza/burnt_pizza (19).jpg',\n",
       " 'Pizza Refund/train/Burnt_pizza/burnt_pizza (149).jpg',\n",
       " 'Pizza Refund/train/Burnt_pizza/burnt_pizza (14).jpeg',\n",
       " 'Pizza Refund/train/Burnt_pizza/burnt_pizza (2).jpeg',\n",
       " 'Pizza Refund/train/Burnt_pizza/burnt_pizza (138).jpg',\n",
       " 'Pizza Refund/train/Burnt_pizza/burnt_pizza (155).jpg',\n",
       " 'Pizza Refund/train/Burnt_pizza/burnt_pizza (14).jpg',\n",
       " 'Pizza Refund/train/Burnt_pizza/burnt_pizza (144).jpg',\n",
       " 'Pizza Refund/train/Burnt_pizza/burnt_pizza (15).jpg',\n",
       " 'Pizza Refund/train/Burnt_pizza/burnt_pizza (157).jpg',\n",
       " 'Pizza Refund/train/Burnt_pizza/burnt_pizza (16).jpg',\n",
       " 'Pizza Refund/train/Burnt_pizza/burnt_pizza (150).jpg',\n",
       " 'Pizza Refund/train/Burnt_pizza/burnt_pizza (17).jpeg',\n",
       " 'Pizza Refund/train/Burnt_pizza/burnt_pizza (156).jpg',\n",
       " 'Pizza Refund/train/Burnt_pizza/burnt_pizza (20).jpg',\n",
       " 'Pizza Refund/train/Burnt_pizza/burnt_pizza (20).jpeg',\n",
       " 'Pizza Refund/train/Burnt_pizza/burnt_pizza (142).jpg',\n",
       " 'Pizza Refund/train/Burnt_pizza/burnt_pizza (145).jpg',\n",
       " 'Pizza Refund/train/Burnt_pizza/burnt_pizza (141).jpg',\n",
       " 'Pizza Refund/train/Burnt_pizza/burnt_pizza (146).jpg',\n",
       " 'Pizza Refund/train/Burnt_pizza/burnt_pizza (140).jpg',\n",
       " 'Pizza Refund/train/Burnt_pizza/burnt_pizza (16).jpeg',\n",
       " 'Pizza Refund/train/Burnt_pizza/burnt_pizza (21).jpeg',\n",
       " 'Pizza Refund/train/Burnt_pizza/burnt_pizza (26).jpg',\n",
       " 'Pizza Refund/train/Burnt_pizza/burnt_pizza (28).jpeg',\n",
       " 'Pizza Refund/train/Burnt_pizza/burnt_pizza (36).jpeg',\n",
       " 'Pizza Refund/train/Burnt_pizza/burnt_pizza (30).jpg',\n",
       " 'Pizza Refund/train/Burnt_pizza/burnt_pizza (36).jpg',\n",
       " 'Pizza Refund/train/Burnt_pizza/burnt_pizza (31).jpg',\n",
       " 'Pizza Refund/train/Burnt_pizza/burnt_pizza (29).jpg',\n",
       " 'Pizza Refund/train/Burnt_pizza/burnt_pizza (21).jpg',\n",
       " 'Pizza Refund/train/Burnt_pizza/burnt_pizza (34).jpeg',\n",
       " 'Pizza Refund/train/Burnt_pizza/burnt_pizza (32).jpeg',\n",
       " 'Pizza Refund/train/Burnt_pizza/burnt_pizza (33).jpeg',\n",
       " 'Pizza Refund/train/Burnt_pizza/burnt_pizza (22).jpg',\n",
       " 'Pizza Refund/train/Burnt_pizza/burnt_pizza (3).jpeg',\n",
       " 'Pizza Refund/train/Burnt_pizza/burnt_pizza (3).png',\n",
       " 'Pizza Refund/train/Burnt_pizza/burnt_pizza (25).jpeg',\n",
       " 'Pizza Refund/train/Burnt_pizza/burnt_pizza (25).jpg',\n",
       " 'Pizza Refund/train/Burnt_pizza/burnt_pizza (35).jpg',\n",
       " 'Pizza Refund/train/Burnt_pizza/burnt_pizza (37).jpeg',\n",
       " 'Pizza Refund/train/Burnt_pizza/burnt_pizza (26).jpeg',\n",
       " 'Pizza Refund/train/Burnt_pizza/burnt_pizza (34).jpg',\n",
       " 'Pizza Refund/train/Burnt_pizza/burnt_pizza (23).jpg',\n",
       " 'Pizza Refund/train/Burnt_pizza/burnt_pizza (22).jpeg',\n",
       " 'Pizza Refund/train/Burnt_pizza/burnt_pizza (28).jpg',\n",
       " 'Pizza Refund/train/Burnt_pizza/burnt_pizza (33).jpg',\n",
       " 'Pizza Refund/train/Burnt_pizza/burnt_pizza (24).jpg',\n",
       " 'Pizza Refund/train/Burnt_pizza/burnt_pizza (27).jpg',\n",
       " 'Pizza Refund/train/Burnt_pizza/burnt_pizza (32).jpg',\n",
       " 'Pizza Refund/train/Burnt_pizza/burnt_pizza (35).jpeg',\n",
       " 'Pizza Refund/train/Burnt_pizza/burnt_pizza (24).jpeg',\n",
       " 'Pizza Refund/train/Burnt_pizza/burnt_pizza (30).jpeg',\n",
       " 'Pizza Refund/train/Burnt_pizza/burnt_pizza (29).jpeg',\n",
       " 'Pizza Refund/train/Burnt_pizza/burnt_pizza (31).jpeg',\n",
       " 'Pizza Refund/train/Burnt_pizza/burnt_pizza (3).jpg',\n",
       " 'Pizza Refund/train/Burnt_pizza/burnt_pizza (27).jpeg',\n",
       " 'Pizza Refund/train/Burnt_pizza/burnt_pizza (4).jpeg',\n",
       " 'Pizza Refund/train/Burnt_pizza/burnt_pizza (44).jpg',\n",
       " 'Pizza Refund/train/Burnt_pizza/burnt_pizza (48).jpeg',\n",
       " 'Pizza Refund/train/Burnt_pizza/burnt_pizza (45).jpg',\n",
       " 'Pizza Refund/train/Burnt_pizza/burnt_pizza (38).jpg',\n",
       " 'Pizza Refund/train/Burnt_pizza/burnt_pizza (43).jpg',\n",
       " 'Pizza Refund/train/Burnt_pizza/burnt_pizza (53).jpeg',\n",
       " 'Pizza Refund/train/Burnt_pizza/burnt_pizza (44).jpeg',\n",
       " 'Pizza Refund/train/Burnt_pizza/burnt_pizza (49).jpg',\n",
       " 'Pizza Refund/train/Burnt_pizza/burnt_pizza (40).jpg',\n",
       " 'Pizza Refund/train/Burnt_pizza/burnt_pizza (50).jpg',\n",
       " 'Pizza Refund/train/Burnt_pizza/burnt_pizza (40).jpeg',\n",
       " 'Pizza Refund/train/Burnt_pizza/burnt_pizza (52).jpg',\n",
       " 'Pizza Refund/train/Burnt_pizza/burnt_pizza (46).jpeg',\n",
       " 'Pizza Refund/train/Burnt_pizza/burnt_pizza (45).jpeg',\n",
       " 'Pizza Refund/train/Burnt_pizza/burnt_pizza (41).jpeg',\n",
       " 'Pizza Refund/train/Burnt_pizza/burnt_pizza (51).jpg',\n",
       " 'Pizza Refund/train/Burnt_pizza/burnt_pizza (42).jpg',\n",
       " 'Pizza Refund/train/Burnt_pizza/burnt_pizza (42).jpeg',\n",
       " 'Pizza Refund/train/Burnt_pizza/burnt_pizza (51).jpeg',\n",
       " 'Pizza Refund/train/Burnt_pizza/burnt_pizza (39).jpg',\n",
       " 'Pizza Refund/train/Burnt_pizza/burnt_pizza (5).jpg',\n",
       " 'Pizza Refund/train/Burnt_pizza/burnt_pizza (50).jpeg',\n",
       " 'Pizza Refund/train/Burnt_pizza/burnt_pizza (5).png',\n",
       " 'Pizza Refund/train/Burnt_pizza/burnt_pizza (47).jpg',\n",
       " 'Pizza Refund/train/Burnt_pizza/burnt_pizza (5).jpeg',\n",
       " 'Pizza Refund/train/Burnt_pizza/burnt_pizza (52).jpeg',\n",
       " 'Pizza Refund/train/Burnt_pizza/burnt_pizza (4).png',\n",
       " 'Pizza Refund/train/Burnt_pizza/burnt_pizza (46).jpg',\n",
       " 'Pizza Refund/train/Burnt_pizza/burnt_pizza (49).jpeg',\n",
       " 'Pizza Refund/train/Burnt_pizza/burnt_pizza (48).jpg',\n",
       " 'Pizza Refund/train/Burnt_pizza/burnt_pizza (41).jpg',\n",
       " 'Pizza Refund/train/Burnt_pizza/burnt_pizza (47).jpeg',\n",
       " 'Pizza Refund/train/Burnt_pizza/burnt_pizza (4).jpg',\n",
       " 'Pizza Refund/train/Burnt_pizza/burnt_pizza (43).jpeg',\n",
       " 'Pizza Refund/train/Burnt_pizza/burnt_pizza (38).jpeg',\n",
       " 'Pizza Refund/train/Burnt_pizza/burnt_pizza (37).jpg',\n",
       " 'Pizza Refund/train/Burnt_pizza/burnt_pizza (53).jpg',\n",
       " 'Pizza Refund/train/Burnt_pizza/burnt_pizza (39).jpeg',\n",
       " 'Pizza Refund/train/Burnt_pizza/burnt_pizza (56).jpg',\n",
       " 'Pizza Refund/train/Burnt_pizza/burnt_pizza (55).jpeg',\n",
       " 'Pizza Refund/train/Burnt_pizza/burnt_pizza (66).jpg',\n",
       " 'Pizza Refund/train/Burnt_pizza/burnt_pizza (61).jpg',\n",
       " 'Pizza Refund/train/Burnt_pizza/burnt_pizza (70).jpeg',\n",
       " 'Pizza Refund/train/Burnt_pizza/burnt_pizza (69).jpeg',\n",
       " 'Pizza Refund/train/Burnt_pizza/burnt_pizza (7).jpg',\n",
       " 'Pizza Refund/train/Burnt_pizza/burnt_pizza (64).jpg',\n",
       " 'Pizza Refund/train/Burnt_pizza/burnt_pizza (68).jpg',\n",
       " 'Pizza Refund/train/Burnt_pizza/burnt_pizza (60).jpeg',\n",
       " 'Pizza Refund/train/Burnt_pizza/burnt_pizza (59).jpg',\n",
       " 'Pizza Refund/train/Burnt_pizza/burnt_pizza (57).jpg',\n",
       " 'Pizza Refund/train/Burnt_pizza/burnt_pizza (68).jpeg',\n",
       " 'Pizza Refund/train/Burnt_pizza/burnt_pizza (65).jpg',\n",
       " 'Pizza Refund/train/Burnt_pizza/burnt_pizza (54).jpg',\n",
       " 'Pizza Refund/train/Burnt_pizza/burnt_pizza (70).jpg',\n",
       " 'Pizza Refund/train/Burnt_pizza/burnt_pizza (60).jpg',\n",
       " 'Pizza Refund/train/Burnt_pizza/burnt_pizza (66).jpeg',\n",
       " 'Pizza Refund/train/Burnt_pizza/burnt_pizza (54).jpeg',\n",
       " 'Pizza Refund/train/Burnt_pizza/burnt_pizza (57).jpeg',\n",
       " 'Pizza Refund/train/Burnt_pizza/burnt_pizza (55).jpg',\n",
       " 'Pizza Refund/train/Burnt_pizza/burnt_pizza (67).jpeg',\n",
       " 'Pizza Refund/train/Burnt_pizza/burnt_pizza (63).jpg',\n",
       " 'Pizza Refund/train/Burnt_pizza/burnt_pizza (6).jpg',\n",
       " 'Pizza Refund/train/Burnt_pizza/burnt_pizza (63).jpeg',\n",
       " 'Pizza Refund/train/Burnt_pizza/burnt_pizza (7).jpeg',\n",
       " 'Pizza Refund/train/Burnt_pizza/burnt_pizza (62).jpeg',\n",
       " 'Pizza Refund/train/Burnt_pizza/burnt_pizza (6).png',\n",
       " 'Pizza Refund/train/Burnt_pizza/burnt_pizza (7).png',\n",
       " 'Pizza Refund/train/Burnt_pizza/burnt_pizza (56).jpeg',\n",
       " 'Pizza Refund/train/Burnt_pizza/burnt_pizza (69).jpg',\n",
       " 'Pizza Refund/train/Burnt_pizza/burnt_pizza (65).jpeg',\n",
       " 'Pizza Refund/train/Burnt_pizza/burnt_pizza (6).jpeg',\n",
       " 'Pizza Refund/train/Burnt_pizza/burnt_pizza (59).jpeg',\n",
       " 'Pizza Refund/train/Burnt_pizza/burnt_pizza (58).jpg',\n",
       " 'Pizza Refund/train/Burnt_pizza/burnt_pizza (64).jpeg',\n",
       " 'Pizza Refund/train/Burnt_pizza/burnt_pizza (58).jpeg',\n",
       " 'Pizza Refund/train/Burnt_pizza/burnt_pizza (67).jpg',\n",
       " 'Pizza Refund/train/Burnt_pizza/burnt_pizza (62).jpg',\n",
       " 'Pizza Refund/train/Burnt_pizza/burnt_pizza (61).jpeg',\n",
       " 'Pizza Refund/train/Burnt_pizza/burnt_pizza (83).jpg',\n",
       " 'Pizza Refund/train/Burnt_pizza/burnt_pizza (82).jpeg',\n",
       " 'Pizza Refund/train/Burnt_pizza/burnt_pizza (78).jpeg',\n",
       " 'Pizza Refund/train/Burnt_pizza/burnt_pizza (79).jpeg',\n",
       " 'Pizza Refund/train/Burnt_pizza/burnt_pizza (73).jpg',\n",
       " 'Pizza Refund/train/Burnt_pizza/burnt_pizza (84).jpg',\n",
       " 'Pizza Refund/train/Burnt_pizza/burnt_pizza (71).jpeg',\n",
       " 'Pizza Refund/train/Burnt_pizza/burnt_pizza (72).jpg',\n",
       " 'Pizza Refund/train/Burnt_pizza/burnt_pizza (72).jpeg',\n",
       " 'Pizza Refund/train/Burnt_pizza/burnt_pizza (74).jpeg',\n",
       " 'Pizza Refund/train/Burnt_pizza/burnt_pizza (81).jpg',\n",
       " 'Pizza Refund/train/Burnt_pizza/burnt_pizza (85).jpeg',\n",
       " 'Pizza Refund/train/Burnt_pizza/burnt_pizza (77).jpeg',\n",
       " 'Pizza Refund/train/Burnt_pizza/burnt_pizza (8).jpeg',\n",
       " 'Pizza Refund/train/Burnt_pizza/burnt_pizza (75).jpeg',\n",
       " 'Pizza Refund/train/Burnt_pizza/burnt_pizza (74).jpg',\n",
       " 'Pizza Refund/train/Burnt_pizza/burnt_pizza (78).jpg',\n",
       " 'Pizza Refund/train/Burnt_pizza/burnt_pizza (71).jpg',\n",
       " 'Pizza Refund/train/Burnt_pizza/burnt_pizza (8).png',\n",
       " 'Pizza Refund/train/Burnt_pizza/burnt_pizza (79).jpg',\n",
       " 'Pizza Refund/train/Burnt_pizza/burnt_pizza (81).jpeg',\n",
       " 'Pizza Refund/train/Burnt_pizza/burnt_pizza (83).jpeg',\n",
       " 'Pizza Refund/train/Burnt_pizza/burnt_pizza (77).jpg',\n",
       " 'Pizza Refund/train/Burnt_pizza/burnt_pizza (76).jpg',\n",
       " 'Pizza Refund/train/Burnt_pizza/burnt_pizza (84).jpeg',\n",
       " 'Pizza Refund/train/Burnt_pizza/burnt_pizza (82).jpg',\n",
       " 'Pizza Refund/train/Burnt_pizza/burnt_pizza (76).jpeg',\n",
       " 'Pizza Refund/train/Burnt_pizza/burnt_pizza (73).jpeg',\n",
       " 'Pizza Refund/train/Burnt_pizza/burnt_pizza (80).jpeg',\n",
       " 'Pizza Refund/train/Burnt_pizza/burnt_pizza (8).jpg',\n",
       " 'Pizza Refund/train/Burnt_pizza/burnt_pizza (80).jpg',\n",
       " 'Pizza Refund/train/Burnt_pizza/burnt_pizza (75).jpg',\n",
       " 'Pizza Refund/train/Burnt_pizza/burnt_pizza (9).jpeg',\n",
       " 'Pizza Refund/train/Burnt_pizza/burnt_pizza (91).jpeg',\n",
       " 'Pizza Refund/train/Burnt_pizza/burnt_pizza (9).png',\n",
       " 'Pizza Refund/train/Burnt_pizza/burnt_pizza (98).jpg',\n",
       " 'Pizza Refund/train/Burnt_pizza/burnt_pizza (96).jpeg',\n",
       " 'Pizza Refund/train/Burnt_pizza/burnt_pizza (97).jpg',\n",
       " 'Pizza Refund/train/Burnt_pizza/burnt_pizza (89).jpg',\n",
       " 'Pizza Refund/train/Burnt_pizza/burnt_pizza (9).jpg',\n",
       " 'Pizza Refund/train/Burnt_pizza/burnt_pizza (93).jpg',\n",
       " 'Pizza Refund/train/Burnt_pizza/burnt_pizza (92).jpeg',\n",
       " 'Pizza Refund/train/Burnt_pizza/burnt_pizza (97).jpeg',\n",
       " 'Pizza Refund/train/Burnt_pizza/burnt_pizza (87).jpg',\n",
       " 'Pizza Refund/train/Burnt_pizza/burnt_pizza (86).jpg',\n",
       " 'Pizza Refund/train/Burnt_pizza/burnt_pizza (96).jpg',\n",
       " 'Pizza Refund/train/Burnt_pizza/burnt_pizza (89).jpeg',\n",
       " 'Pizza Refund/train/Burnt_pizza/burnt_pizza (88).jpg',\n",
       " 'Pizza Refund/train/Burnt_pizza/burnt_pizza (90).jpg',\n",
       " 'Pizza Refund/train/Burnt_pizza/burnt_pizza (92).jpg',\n",
       " 'Pizza Refund/train/Burnt_pizza/burnt_pizza (99).jpeg',\n",
       " 'Pizza Refund/train/Burnt_pizza/burnt_pizza (90).jpeg',\n",
       " 'Pizza Refund/train/Burnt_pizza/burnt_pizza (85).jpg',\n",
       " 'Pizza Refund/train/Burnt_pizza/burnt_pizza (88).jpeg',\n",
       " 'Pizza Refund/train/Burnt_pizza/burnt_pizza (86).jpeg',\n",
       " 'Pizza Refund/train/Burnt_pizza/burnt_pizza (94).jpg',\n",
       " 'Pizza Refund/train/Burnt_pizza/burnt_pizza (87).jpeg',\n",
       " 'Pizza Refund/train/Burnt_pizza/burnt_pizza (91).jpg',\n",
       " 'Pizza Refund/train/Burnt_pizza/burnt_pizza (95).jpg',\n",
       " 'Pizza Refund/train/Burnt_pizza/burnt_pizza (99).jpg',\n",
       " 'Pizza Refund/train/Burnt_pizza/burnt_pizza (95).jpeg',\n",
       " 'Pizza Refund/train/Burnt_pizza/burnt_pizza (94).jpeg',\n",
       " 'Pizza Refund/train/Burnt_pizza/burnt_pizza (93).jpeg',\n",
       " 'Pizza Refund/train/Burnt_pizza/burnt_pizza (98).jpeg',\n",
       " 'Pizza Refund/train/Good_pizza/good_pizza (1).jpeg',\n",
       " 'Pizza Refund/train/Good_pizza/good_pizza (10).jpeg',\n",
       " 'Pizza Refund/train/Good_pizza/good_pizza (1).png',\n",
       " 'Pizza Refund/train/Good_pizza/good_pizza (1).jpg',\n",
       " 'Pizza Refund/train/Good_pizza/good_pizza (12).jpg',\n",
       " 'Pizza Refund/train/Good_pizza/good_pizza (114).jpg',\n",
       " 'Pizza Refund/train/Good_pizza/good_pizza (10).png',\n",
       " 'Pizza Refund/train/Good_pizza/good_pizza (11).jpeg',\n",
       " 'Pizza Refund/train/Good_pizza/good_pizza (106).jpg',\n",
       " 'Pizza Refund/train/Good_pizza/good_pizza (12).png',\n",
       " 'Pizza Refund/train/Good_pizza/good_pizza (116).jpg',\n",
       " 'Pizza Refund/train/Good_pizza/good_pizza (113).jpg',\n",
       " 'Pizza Refund/train/Good_pizza/good_pizza (102).jpg',\n",
       " 'Pizza Refund/train/Good_pizza/good_pizza (112).jpg',\n",
       " 'Pizza Refund/train/Good_pizza/good_pizza (107).jpg',\n",
       " 'Pizza Refund/train/Good_pizza/good_pizza (119).jpg',\n",
       " 'Pizza Refund/train/Good_pizza/good_pizza (111).jpg',\n",
       " 'Pizza Refund/train/Good_pizza/good_pizza (109).jpg',\n",
       " 'Pizza Refund/train/Good_pizza/good_pizza (103).jpg',\n",
       " 'Pizza Refund/train/Good_pizza/good_pizza (117).jpg',\n",
       " 'Pizza Refund/train/Good_pizza/good_pizza (12).jpeg',\n",
       " 'Pizza Refund/train/Good_pizza/good_pizza (104).jpg',\n",
       " 'Pizza Refund/train/Good_pizza/good_pizza (10).jpg',\n",
       " 'Pizza Refund/train/Good_pizza/good_pizza (120).jpg',\n",
       " 'Pizza Refund/train/Good_pizza/good_pizza (11).jpg',\n",
       " 'Pizza Refund/train/Good_pizza/good_pizza (100).jpg',\n",
       " 'Pizza Refund/train/Good_pizza/good_pizza (101).jpg',\n",
       " 'Pizza Refund/train/Good_pizza/good_pizza (118).jpg',\n",
       " 'Pizza Refund/train/Good_pizza/good_pizza (110).jpg',\n",
       " 'Pizza Refund/train/Good_pizza/good_pizza (115).jpg',\n",
       " 'Pizza Refund/train/Good_pizza/good_pizza (108).jpg',\n",
       " 'Pizza Refund/train/Good_pizza/good_pizza (105).jpg',\n",
       " 'Pizza Refund/train/Good_pizza/good_pizza (11).png',\n",
       " 'Pizza Refund/train/Good_pizza/good_pizza (131).jpg',\n",
       " 'Pizza Refund/train/Good_pizza/good_pizza (13).png',\n",
       " 'Pizza Refund/train/Good_pizza/good_pizza (15).jpg',\n",
       " 'Pizza Refund/train/Good_pizza/good_pizza (13).jpeg',\n",
       " 'Pizza Refund/train/Good_pizza/good_pizza (149).jpg',\n",
       " 'Pizza Refund/train/Good_pizza/good_pizza (14).jpeg',\n",
       " 'Pizza Refund/train/Good_pizza/good_pizza (15).jpeg',\n",
       " 'Pizza Refund/train/Good_pizza/good_pizza (138).jpg',\n",
       " 'Pizza Refund/train/Good_pizza/good_pizza (126).jpg',\n",
       " 'Pizza Refund/train/Good_pizza/good_pizza (122).jpg',\n",
       " 'Pizza Refund/train/Good_pizza/good_pizza (14).jpg',\n",
       " 'Pizza Refund/train/Good_pizza/good_pizza (148).jpg',\n",
       " 'Pizza Refund/train/Good_pizza/good_pizza (140).jpg',\n",
       " 'Pizza Refund/train/Good_pizza/good_pizza (144).jpg',\n",
       " 'Pizza Refund/train/Good_pizza/good_pizza (128).jpg',\n",
       " 'Pizza Refund/train/Good_pizza/good_pizza (145).jpg',\n",
       " 'Pizza Refund/train/Good_pizza/good_pizza (125).jpg',\n",
       " 'Pizza Refund/train/Good_pizza/good_pizza (124).jpg',\n",
       " 'Pizza Refund/train/Good_pizza/good_pizza (123).jpg',\n",
       " 'Pizza Refund/train/Good_pizza/good_pizza (142).jpg',\n",
       " 'Pizza Refund/train/Good_pizza/good_pizza (137).jpg',\n",
       " 'Pizza Refund/train/Good_pizza/good_pizza (147).jpg',\n",
       " 'Pizza Refund/train/Good_pizza/good_pizza (127).jpg',\n",
       " 'Pizza Refund/train/Good_pizza/good_pizza (146).jpg',\n",
       " 'Pizza Refund/train/Good_pizza/good_pizza (139).jpg',\n",
       " 'Pizza Refund/train/Good_pizza/good_pizza (152).jpg',\n",
       " 'Pizza Refund/train/Good_pizza/good_pizza (129).jpg',\n",
       " 'Pizza Refund/train/Good_pizza/good_pizza (134).jpg',\n",
       " 'Pizza Refund/train/Good_pizza/good_pizza (136).jpg',\n",
       " 'Pizza Refund/train/Good_pizza/good_pizza (135).jpg',\n",
       " 'Pizza Refund/train/Good_pizza/good_pizza (141).jpg',\n",
       " 'Pizza Refund/train/Good_pizza/good_pizza (13).jpg',\n",
       " 'Pizza Refund/train/Good_pizza/good_pizza (130).jpg',\n",
       " 'Pizza Refund/train/Good_pizza/good_pizza (121).jpg',\n",
       " 'Pizza Refund/train/Good_pizza/good_pizza (143).jpg',\n",
       " 'Pizza Refund/train/Good_pizza/good_pizza (150).jpg',\n",
       " 'Pizza Refund/train/Good_pizza/good_pizza (151).jpg',\n",
       " 'Pizza Refund/train/Good_pizza/good_pizza (133).jpg',\n",
       " 'Pizza Refund/train/Good_pizza/good_pizza (132).jpg',\n",
       " 'Pizza Refund/train/Good_pizza/good_pizza (163).jpg',\n",
       " 'Pizza Refund/train/Good_pizza/good_pizza (183).jpg',\n",
       " 'Pizza Refund/train/Good_pizza/good_pizza (177).jpg',\n",
       " 'Pizza Refund/train/Good_pizza/good_pizza (166).jpg',\n",
       " 'Pizza Refund/train/Good_pizza/good_pizza (173).jpg',\n",
       " 'Pizza Refund/train/Good_pizza/good_pizza (160).jpg',\n",
       " 'Pizza Refund/train/Good_pizza/good_pizza (176).jpg',\n",
       " 'Pizza Refund/train/Good_pizza/good_pizza (171).jpg',\n",
       " 'Pizza Refund/train/Good_pizza/good_pizza (168).jpg',\n",
       " 'Pizza Refund/train/Good_pizza/good_pizza (153).jpg',\n",
       " 'Pizza Refund/train/Good_pizza/good_pizza (16).jpeg',\n",
       " 'Pizza Refund/train/Good_pizza/good_pizza (182).jpg',\n",
       " 'Pizza Refund/train/Good_pizza/good_pizza (18).jpeg',\n",
       " 'Pizza Refund/train/Good_pizza/good_pizza (184).jpg',\n",
       " 'Pizza Refund/train/Good_pizza/good_pizza (178).jpg',\n",
       " 'Pizza Refund/train/Good_pizza/good_pizza (155).jpg',\n",
       " 'Pizza Refund/train/Good_pizza/good_pizza (162).jpg',\n",
       " 'Pizza Refund/train/Good_pizza/good_pizza (175).jpg',\n",
       " 'Pizza Refund/train/Good_pizza/good_pizza (154).jpg',\n",
       " 'Pizza Refund/train/Good_pizza/good_pizza (17).jpg',\n",
       " 'Pizza Refund/train/Good_pizza/good_pizza (159).jpg',\n",
       " 'Pizza Refund/train/Good_pizza/good_pizza (161).jpg',\n",
       " 'Pizza Refund/train/Good_pizza/good_pizza (180).jpg',\n",
       " 'Pizza Refund/train/Good_pizza/good_pizza (165).jpg',\n",
       " 'Pizza Refund/train/Good_pizza/good_pizza (170).jpg',\n",
       " 'Pizza Refund/train/Good_pizza/good_pizza (157).jpg',\n",
       " 'Pizza Refund/train/Good_pizza/good_pizza (174).jpg',\n",
       " 'Pizza Refund/train/Good_pizza/good_pizza (17).jpeg',\n",
       " 'Pizza Refund/train/Good_pizza/good_pizza (158).jpg',\n",
       " 'Pizza Refund/train/Good_pizza/good_pizza (16).jpg',\n",
       " 'Pizza Refund/train/Good_pizza/good_pizza (181).jpg',\n",
       " 'Pizza Refund/train/Good_pizza/good_pizza (169).jpg',\n",
       " 'Pizza Refund/train/Good_pizza/good_pizza (179).jpg',\n",
       " 'Pizza Refund/train/Good_pizza/good_pizza (172).jpg',\n",
       " 'Pizza Refund/train/Good_pizza/good_pizza (156).jpg',\n",
       " 'Pizza Refund/train/Good_pizza/good_pizza (164).jpg',\n",
       " 'Pizza Refund/train/Good_pizza/good_pizza (18).jpg',\n",
       " 'Pizza Refund/train/Good_pizza/good_pizza (167).jpg',\n",
       " 'Pizza Refund/train/Good_pizza/good_pizza (199).jpg',\n",
       " 'Pizza Refund/train/Good_pizza/good_pizza (198).jpg',\n",
       " 'Pizza Refund/train/Good_pizza/good_pizza (201).jpg',\n",
       " 'Pizza Refund/train/Good_pizza/good_pizza (209).jpg',\n",
       " 'Pizza Refund/train/Good_pizza/good_pizza (210).jpg',\n",
       " 'Pizza Refund/train/Good_pizza/good_pizza (191).jpg',\n",
       " 'Pizza Refund/train/Good_pizza/good_pizza (200).jpg',\n",
       " 'Pizza Refund/train/Good_pizza/good_pizza (21).jpg',\n",
       " 'Pizza Refund/train/Good_pizza/good_pizza (207).jpg',\n",
       " 'Pizza Refund/train/Good_pizza/good_pizza (204).jpg',\n",
       " 'Pizza Refund/train/Good_pizza/good_pizza (205).jpg',\n",
       " 'Pizza Refund/train/Good_pizza/good_pizza (196).jpg',\n",
       " 'Pizza Refund/train/Good_pizza/good_pizza (186).jpg',\n",
       " 'Pizza Refund/train/Good_pizza/good_pizza (190).jpg',\n",
       " 'Pizza Refund/train/Good_pizza/good_pizza (189).jpg',\n",
       " 'Pizza Refund/train/Good_pizza/good_pizza (195).jpg',\n",
       " 'Pizza Refund/train/Good_pizza/good_pizza (2).png',\n",
       " 'Pizza Refund/train/Good_pizza/good_pizza (211).jpg',\n",
       " 'Pizza Refund/train/Good_pizza/good_pizza (188).jpg',\n",
       " 'Pizza Refund/train/Good_pizza/good_pizza (185).jpg',\n",
       " 'Pizza Refund/train/Good_pizza/good_pizza (19).jpeg',\n",
       " 'Pizza Refund/train/Good_pizza/good_pizza (19).jpg',\n",
       " 'Pizza Refund/train/Good_pizza/good_pizza (20).jpeg',\n",
       " 'Pizza Refund/train/Good_pizza/good_pizza (2).jpg',\n",
       " 'Pizza Refund/train/Good_pizza/good_pizza (194).jpg',\n",
       " 'Pizza Refund/train/Good_pizza/good_pizza (212).jpg',\n",
       " 'Pizza Refund/train/Good_pizza/good_pizza (20).jpg',\n",
       " 'Pizza Refund/train/Good_pizza/good_pizza (21).jpeg',\n",
       " 'Pizza Refund/train/Good_pizza/good_pizza (2).jpeg',\n",
       " 'Pizza Refund/train/Good_pizza/good_pizza (206).jpg',\n",
       " 'Pizza Refund/train/Good_pizza/good_pizza (202).jpg',\n",
       " 'Pizza Refund/train/Good_pizza/good_pizza (197).jpg',\n",
       " 'Pizza Refund/train/Good_pizza/good_pizza (192).jpg',\n",
       " 'Pizza Refund/train/Good_pizza/good_pizza (187).jpg',\n",
       " 'Pizza Refund/train/Good_pizza/good_pizza (208).jpg',\n",
       " 'Pizza Refund/train/Good_pizza/good_pizza (203).jpg',\n",
       " 'Pizza Refund/train/Good_pizza/good_pizza (193).jpg',\n",
       " 'Pizza Refund/train/Good_pizza/good_pizza (236).jpg',\n",
       " 'Pizza Refund/train/Good_pizza/good_pizza (225).jpg',\n",
       " 'Pizza Refund/train/Good_pizza/good_pizza (220).jpg',\n",
       " 'Pizza Refund/train/Good_pizza/good_pizza (23).jpg',\n",
       " 'Pizza Refund/train/Good_pizza/good_pizza (22).jpeg',\n",
       " 'Pizza Refund/train/Good_pizza/good_pizza (229).jpg',\n",
       " 'Pizza Refund/train/Good_pizza/good_pizza (235).jpg',\n",
       " 'Pizza Refund/train/Good_pizza/good_pizza (228).jpg',\n",
       " 'Pizza Refund/train/Good_pizza/good_pizza (213).jpg',\n",
       " 'Pizza Refund/train/Good_pizza/good_pizza (224).jpg',\n",
       " 'Pizza Refund/train/Good_pizza/good_pizza (222).jpg',\n",
       " 'Pizza Refund/train/Good_pizza/good_pizza (237).jpg',\n",
       " 'Pizza Refund/train/Good_pizza/good_pizza (221).jpg',\n",
       " 'Pizza Refund/train/Good_pizza/good_pizza (218).jpg',\n",
       " 'Pizza Refund/train/Good_pizza/good_pizza (217).jpg',\n",
       " 'Pizza Refund/train/Good_pizza/good_pizza (234).jpg',\n",
       " 'Pizza Refund/train/Good_pizza/good_pizza (233).jpg',\n",
       " 'Pizza Refund/train/Good_pizza/good_pizza (24).jpeg',\n",
       " 'Pizza Refund/train/Good_pizza/good_pizza (227).jpg',\n",
       " 'Pizza Refund/train/Good_pizza/good_pizza (22).jpg',\n",
       " 'Pizza Refund/train/Good_pizza/good_pizza (223).jpg',\n",
       " 'Pizza Refund/train/Good_pizza/good_pizza (239).jpg',\n",
       " 'Pizza Refund/train/Good_pizza/good_pizza (231).jpg',\n",
       " 'Pizza Refund/train/Good_pizza/good_pizza (219).jpg',\n",
       " 'Pizza Refund/train/Good_pizza/good_pizza (23).jpeg',\n",
       " 'Pizza Refund/train/Good_pizza/good_pizza (230).jpg',\n",
       " 'Pizza Refund/train/Good_pizza/good_pizza (226).jpg',\n",
       " 'Pizza Refund/train/Good_pizza/good_pizza (232).jpg',\n",
       " 'Pizza Refund/train/Good_pizza/good_pizza (216).jpg',\n",
       " 'Pizza Refund/train/Good_pizza/good_pizza (215).jpg',\n",
       " 'Pizza Refund/train/Good_pizza/good_pizza (238).jpg',\n",
       " 'Pizza Refund/train/Good_pizza/good_pizza (214).jpg',\n",
       " 'Pizza Refund/train/Good_pizza/good_pizza (258).jpg',\n",
       " 'Pizza Refund/train/Good_pizza/good_pizza (26).jpeg',\n",
       " 'Pizza Refund/train/Good_pizza/good_pizza (253).jpg',\n",
       " 'Pizza Refund/train/Good_pizza/good_pizza (264).jpg',\n",
       " 'Pizza Refund/train/Good_pizza/good_pizza (259).jpg',\n",
       " 'Pizza Refund/train/Good_pizza/good_pizza (263).jpg',\n",
       " 'Pizza Refund/train/Good_pizza/good_pizza (268).jpg',\n",
       " 'Pizza Refund/train/Good_pizza/good_pizza (251).jpg',\n",
       " 'Pizza Refund/train/Good_pizza/good_pizza (262).jpg',\n",
       " 'Pizza Refund/train/Good_pizza/good_pizza (241).jpg',\n",
       " 'Pizza Refund/train/Good_pizza/good_pizza (254).jpg',\n",
       " 'Pizza Refund/train/Good_pizza/good_pizza (255).jpg',\n",
       " 'Pizza Refund/train/Good_pizza/good_pizza (27).jpg',\n",
       " 'Pizza Refund/train/Good_pizza/good_pizza (26).jpg',\n",
       " 'Pizza Refund/train/Good_pizza/good_pizza (248).jpg',\n",
       " 'Pizza Refund/train/Good_pizza/good_pizza (270).jpg',\n",
       " 'Pizza Refund/train/Good_pizza/good_pizza (269).jpg',\n",
       " 'Pizza Refund/train/Good_pizza/good_pizza (266).jpg',\n",
       " 'Pizza Refund/train/Good_pizza/good_pizza (267).jpg',\n",
       " 'Pizza Refund/train/Good_pizza/good_pizza (25).jpeg',\n",
       " 'Pizza Refund/train/Good_pizza/good_pizza (265).jpg',\n",
       " 'Pizza Refund/train/Good_pizza/good_pizza (260).jpg',\n",
       " 'Pizza Refund/train/Good_pizza/good_pizza (242).jpg',\n",
       " 'Pizza Refund/train/Good_pizza/good_pizza (261).jpg',\n",
       " 'Pizza Refund/train/Good_pizza/good_pizza (24).jpg',\n",
       " 'Pizza Refund/train/Good_pizza/good_pizza (250).jpg',\n",
       " 'Pizza Refund/train/Good_pizza/good_pizza (245).jpg',\n",
       " 'Pizza Refund/train/Good_pizza/good_pizza (249).jpg',\n",
       " 'Pizza Refund/train/Good_pizza/good_pizza (25).jpg',\n",
       " 'Pizza Refund/train/Good_pizza/good_pizza (257).jpg',\n",
       " 'Pizza Refund/train/Good_pizza/good_pizza (252).jpg',\n",
       " 'Pizza Refund/train/Good_pizza/good_pizza (244).jpg',\n",
       " 'Pizza Refund/train/Good_pizza/good_pizza (256).jpg',\n",
       " 'Pizza Refund/train/Good_pizza/good_pizza (247).jpg',\n",
       " 'Pizza Refund/train/Good_pizza/good_pizza (240).jpg',\n",
       " 'Pizza Refund/train/Good_pizza/good_pizza (246).jpg',\n",
       " 'Pizza Refund/train/Good_pizza/good_pizza (243).jpg',\n",
       " 'Pizza Refund/train/Good_pizza/good_pizza (286).jpg',\n",
       " 'Pizza Refund/train/Good_pizza/good_pizza (288).jpg',\n",
       " 'Pizza Refund/train/Good_pizza/good_pizza (274).jpg',\n",
       " 'Pizza Refund/train/Good_pizza/good_pizza (271).jpg',\n",
       " 'Pizza Refund/train/Good_pizza/good_pizza (295).jpg',\n",
       " 'Pizza Refund/train/Good_pizza/good_pizza (28).jpg',\n",
       " 'Pizza Refund/train/Good_pizza/good_pizza (273).jpg',\n",
       " 'Pizza Refund/train/Good_pizza/good_pizza (283).jpg',\n",
       " 'Pizza Refund/train/Good_pizza/good_pizza (3).png',\n",
       " 'Pizza Refund/train/Good_pizza/good_pizza (284).jpg',\n",
       " 'Pizza Refund/train/Good_pizza/good_pizza (281).jpg',\n",
       " 'Pizza Refund/train/Good_pizza/good_pizza (299).jpg',\n",
       " 'Pizza Refund/train/Good_pizza/good_pizza (293).jpg',\n",
       " 'Pizza Refund/train/Good_pizza/good_pizza (280).jpg',\n",
       " 'Pizza Refund/train/Good_pizza/good_pizza (292).jpg',\n",
       " 'Pizza Refund/train/Good_pizza/good_pizza (289).jpg',\n",
       " 'Pizza Refund/train/Good_pizza/good_pizza (29).jpg',\n",
       " 'Pizza Refund/train/Good_pizza/good_pizza (275).jpg',\n",
       " 'Pizza Refund/train/Good_pizza/good_pizza (297).jpg',\n",
       " 'Pizza Refund/train/Good_pizza/good_pizza (276).jpg',\n",
       " 'Pizza Refund/train/Good_pizza/good_pizza (282).jpg',\n",
       " 'Pizza Refund/train/Good_pizza/good_pizza (294).jpg',\n",
       " 'Pizza Refund/train/Good_pizza/good_pizza (277).jpg',\n",
       " 'Pizza Refund/train/Good_pizza/good_pizza (3).jpg',\n",
       " 'Pizza Refund/train/Good_pizza/good_pizza (287).jpg',\n",
       " 'Pizza Refund/train/Good_pizza/good_pizza (285).jpg',\n",
       " 'Pizza Refund/train/Good_pizza/good_pizza (279).jpg',\n",
       " 'Pizza Refund/train/Good_pizza/good_pizza (296).jpg',\n",
       " 'Pizza Refund/train/Good_pizza/good_pizza (291).jpg',\n",
       " 'Pizza Refund/train/Good_pizza/good_pizza (272).jpg',\n",
       " 'Pizza Refund/train/Good_pizza/good_pizza (3).jpeg',\n",
       " 'Pizza Refund/train/Good_pizza/good_pizza (300).jpg',\n",
       " 'Pizza Refund/train/Good_pizza/good_pizza (278).jpg',\n",
       " 'Pizza Refund/train/Good_pizza/good_pizza (298).jpg',\n",
       " 'Pizza Refund/train/Good_pizza/good_pizza (290).jpg',\n",
       " 'Pizza Refund/train/Good_pizza/good_pizza (30).jpg',\n",
       " 'Pizza Refund/train/Good_pizza/good_pizza (335).jpg',\n",
       " 'Pizza Refund/train/Good_pizza/good_pizza (308).jpg',\n",
       " 'Pizza Refund/train/Good_pizza/good_pizza (338).jpg',\n",
       " 'Pizza Refund/train/Good_pizza/good_pizza (328).jpg',\n",
       " 'Pizza Refund/train/Good_pizza/good_pizza (331).jpg',\n",
       " 'Pizza Refund/train/Good_pizza/good_pizza (326).jpg',\n",
       " 'Pizza Refund/train/Good_pizza/good_pizza (304).jpg',\n",
       " 'Pizza Refund/train/Good_pizza/good_pizza (332).jpg',\n",
       " 'Pizza Refund/train/Good_pizza/good_pizza (323).jpg',\n",
       " 'Pizza Refund/train/Good_pizza/good_pizza (337).jpg',\n",
       " 'Pizza Refund/train/Good_pizza/good_pizza (305).jpg',\n",
       " 'Pizza Refund/train/Good_pizza/good_pizza (325).jpg',\n",
       " 'Pizza Refund/train/Good_pizza/good_pizza (327).jpg',\n",
       " 'Pizza Refund/train/Good_pizza/good_pizza (302).jpg',\n",
       " 'Pizza Refund/train/Good_pizza/good_pizza (32).jpg',\n",
       " 'Pizza Refund/train/Good_pizza/good_pizza (336).jpg',\n",
       " 'Pizza Refund/train/Good_pizza/good_pizza (334).jpg',\n",
       " 'Pizza Refund/train/Good_pizza/good_pizza (330).jpg',\n",
       " 'Pizza Refund/train/Good_pizza/good_pizza (316).jpg',\n",
       " 'Pizza Refund/train/Good_pizza/good_pizza (306).jpg',\n",
       " 'Pizza Refund/train/Good_pizza/good_pizza (310).jpg',\n",
       " 'Pizza Refund/train/Good_pizza/good_pizza (324).jpg',\n",
       " 'Pizza Refund/train/Good_pizza/good_pizza (321).jpg',\n",
       " 'Pizza Refund/train/Good_pizza/good_pizza (333).jpg',\n",
       " 'Pizza Refund/train/Good_pizza/good_pizza (31).jpg',\n",
       " 'Pizza Refund/train/Good_pizza/good_pizza (303).jpg',\n",
       " 'Pizza Refund/train/Good_pizza/good_pizza (312).jpg',\n",
       " 'Pizza Refund/train/Good_pizza/good_pizza (317).jpg',\n",
       " 'Pizza Refund/train/Good_pizza/good_pizza (309).jpg',\n",
       " 'Pizza Refund/train/Good_pizza/good_pizza (322).jpg',\n",
       " 'Pizza Refund/train/Good_pizza/good_pizza (313).jpg',\n",
       " 'Pizza Refund/train/Good_pizza/good_pizza (320).jpg',\n",
       " 'Pizza Refund/train/Good_pizza/good_pizza (33).jpg',\n",
       " 'Pizza Refund/train/Good_pizza/good_pizza (329).jpg',\n",
       " 'Pizza Refund/train/Good_pizza/good_pizza (318).jpg',\n",
       " 'Pizza Refund/train/Good_pizza/good_pizza (314).jpg',\n",
       " 'Pizza Refund/train/Good_pizza/good_pizza (307).jpg',\n",
       " 'Pizza Refund/train/Good_pizza/good_pizza (301).jpg',\n",
       " 'Pizza Refund/train/Good_pizza/good_pizza (319).jpg',\n",
       " 'Pizza Refund/train/Good_pizza/good_pizza (311).jpg',\n",
       " 'Pizza Refund/train/Good_pizza/good_pizza (315).jpg',\n",
       " 'Pizza Refund/train/Good_pizza/good_pizza (365).jpg',\n",
       " 'Pizza Refund/train/Good_pizza/good_pizza (343).jpg',\n",
       " 'Pizza Refund/train/Good_pizza/good_pizza (354).jpg',\n",
       " 'Pizza Refund/train/Good_pizza/good_pizza (350).jpg',\n",
       " 'Pizza Refund/train/Good_pizza/good_pizza (370).jpg',\n",
       " 'Pizza Refund/train/Good_pizza/good_pizza (34).jpg',\n",
       " 'Pizza Refund/train/Good_pizza/good_pizza (367).jpg',\n",
       " 'Pizza Refund/train/Good_pizza/good_pizza (339).jpg',\n",
       " 'Pizza Refund/train/Good_pizza/good_pizza (357).jpg',\n",
       " 'Pizza Refund/train/Good_pizza/good_pizza (369).jpg',\n",
       " 'Pizza Refund/train/Good_pizza/good_pizza (352).jpg',\n",
       " 'Pizza Refund/train/Good_pizza/good_pizza (368).jpg',\n",
       " 'Pizza Refund/train/Good_pizza/good_pizza (35).jpg',\n",
       " 'Pizza Refund/train/Good_pizza/good_pizza (351).jpg',\n",
       " 'Pizza Refund/train/Good_pizza/good_pizza (359).jpg',\n",
       " 'Pizza Refund/train/Good_pizza/good_pizza (349).jpg',\n",
       " 'Pizza Refund/train/Good_pizza/good_pizza (37).jpg',\n",
       " 'Pizza Refund/train/Good_pizza/good_pizza (358).jpg',\n",
       " 'Pizza Refund/train/Good_pizza/good_pizza (362).jpg',\n",
       " 'Pizza Refund/train/Good_pizza/good_pizza (342).jpg',\n",
       " 'Pizza Refund/train/Good_pizza/good_pizza (344).jpg',\n",
       " 'Pizza Refund/train/Good_pizza/good_pizza (36).jpg',\n",
       " 'Pizza Refund/train/Good_pizza/good_pizza (347).jpg',\n",
       " 'Pizza Refund/train/Good_pizza/good_pizza (340).jpg',\n",
       " 'Pizza Refund/train/Good_pizza/good_pizza (345).jpg',\n",
       " 'Pizza Refund/train/Good_pizza/good_pizza (364).jpg',\n",
       " 'Pizza Refund/train/Good_pizza/good_pizza (360).jpg',\n",
       " 'Pizza Refund/train/Good_pizza/good_pizza (356).jpg',\n",
       " 'Pizza Refund/train/Good_pizza/good_pizza (341).jpg',\n",
       " 'Pizza Refund/train/Good_pizza/good_pizza (361).jpg',\n",
       " 'Pizza Refund/train/Good_pizza/good_pizza (371).jpg',\n",
       " 'Pizza Refund/train/Good_pizza/good_pizza (366).jpg',\n",
       " 'Pizza Refund/train/Good_pizza/good_pizza (348).jpg',\n",
       " 'Pizza Refund/train/Good_pizza/good_pizza (353).jpg',\n",
       " 'Pizza Refund/train/Good_pizza/good_pizza (355).jpg',\n",
       " 'Pizza Refund/train/Good_pizza/good_pizza (363).jpg',\n",
       " 'Pizza Refund/train/Good_pizza/good_pizza (372).jpg',\n",
       " 'Pizza Refund/train/Good_pizza/good_pizza (346).jpg',\n",
       " 'Pizza Refund/train/Good_pizza/good_pizza (385).jpg',\n",
       " 'Pizza Refund/train/Good_pizza/good_pizza (388).jpg',\n",
       " 'Pizza Refund/train/Good_pizza/good_pizza (379).jpg',\n",
       " 'Pizza Refund/train/Good_pizza/good_pizza (381).jpg',\n",
       " 'Pizza Refund/train/Good_pizza/good_pizza (39).jpg',\n",
       " 'Pizza Refund/train/Good_pizza/good_pizza (374).jpg',\n",
       " 'Pizza Refund/train/Good_pizza/good_pizza (382).jpg',\n",
       " 'Pizza Refund/train/Good_pizza/good_pizza (46).jpg',\n",
       " 'Pizza Refund/train/Good_pizza/good_pizza (40).jpg',\n",
       " 'Pizza Refund/train/Good_pizza/good_pizza (48).jpg',\n",
       " 'Pizza Refund/train/Good_pizza/good_pizza (45).jpg',\n",
       " 'Pizza Refund/train/Good_pizza/good_pizza (389).jpg',\n",
       " 'Pizza Refund/train/Good_pizza/good_pizza (49).jpg',\n",
       " 'Pizza Refund/train/Good_pizza/good_pizza (38).jpg',\n",
       " 'Pizza Refund/train/Good_pizza/good_pizza (373).jpg',\n",
       " 'Pizza Refund/train/Good_pizza/good_pizza (383).jpg',\n",
       " 'Pizza Refund/train/Good_pizza/good_pizza (387).jpg',\n",
       " 'Pizza Refund/train/Good_pizza/good_pizza (44).jpg',\n",
       " 'Pizza Refund/train/Good_pizza/good_pizza (391).jpg',\n",
       " 'Pizza Refund/train/Good_pizza/good_pizza (377).jpg',\n",
       " 'Pizza Refund/train/Good_pizza/good_pizza (4).png',\n",
       " 'Pizza Refund/train/Good_pizza/good_pizza (380).jpg',\n",
       " 'Pizza Refund/train/Good_pizza/good_pizza (47).jpg',\n",
       " 'Pizza Refund/train/Good_pizza/good_pizza (384).jpg',\n",
       " 'Pizza Refund/train/Good_pizza/good_pizza (42).jpg',\n",
       " 'Pizza Refund/train/Good_pizza/good_pizza (378).jpg',\n",
       " 'Pizza Refund/train/Good_pizza/good_pizza (386).jpg',\n",
       " 'Pizza Refund/train/Good_pizza/good_pizza (43).jpg',\n",
       " 'Pizza Refund/train/Good_pizza/good_pizza (4).jpg',\n",
       " 'Pizza Refund/train/Good_pizza/good_pizza (376).jpg',\n",
       " 'Pizza Refund/train/Good_pizza/good_pizza (41).jpg',\n",
       " 'Pizza Refund/train/Good_pizza/good_pizza (390).jpg',\n",
       " 'Pizza Refund/train/Good_pizza/good_pizza (392).jpg',\n",
       " 'Pizza Refund/train/Good_pizza/good_pizza (375).jpg',\n",
       " 'Pizza Refund/train/Good_pizza/good_pizza (4).jpeg',\n",
       " 'Pizza Refund/train/Good_pizza/good_pizza (63).jpg',\n",
       " 'Pizza Refund/train/Good_pizza/good_pizza (75).jpg',\n",
       " 'Pizza Refund/train/Good_pizza/good_pizza (60).jpg',\n",
       " 'Pizza Refund/train/Good_pizza/good_pizza (6).png',\n",
       " 'Pizza Refund/train/Good_pizza/good_pizza (5).jpg',\n",
       " 'Pizza Refund/train/Good_pizza/good_pizza (57).jpg',\n",
       " 'Pizza Refund/train/Good_pizza/good_pizza (7).jpg',\n",
       " 'Pizza Refund/train/Good_pizza/good_pizza (67).jpg',\n",
       " 'Pizza Refund/train/Good_pizza/good_pizza (54).jpg',\n",
       " 'Pizza Refund/train/Good_pizza/good_pizza (61).jpg',\n",
       " 'Pizza Refund/train/Good_pizza/good_pizza (50).jpg',\n",
       " 'Pizza Refund/train/Good_pizza/good_pizza (73).jpg',\n",
       " 'Pizza Refund/train/Good_pizza/good_pizza (71).jpg',\n",
       " 'Pizza Refund/train/Good_pizza/good_pizza (64).jpg',\n",
       " 'Pizza Refund/train/Good_pizza/good_pizza (59).jpg',\n",
       " 'Pizza Refund/train/Good_pizza/good_pizza (7).png',\n",
       " 'Pizza Refund/train/Good_pizza/good_pizza (70).jpg',\n",
       " 'Pizza Refund/train/Good_pizza/good_pizza (65).jpg',\n",
       " 'Pizza Refund/train/Good_pizza/good_pizza (55).jpg',\n",
       " 'Pizza Refund/train/Good_pizza/good_pizza (76).jpg',\n",
       " 'Pizza Refund/train/Good_pizza/good_pizza (69).jpg',\n",
       " 'Pizza Refund/train/Good_pizza/good_pizza (5).jpeg',\n",
       " 'Pizza Refund/train/Good_pizza/good_pizza (62).jpg',\n",
       " 'Pizza Refund/train/Good_pizza/good_pizza (58).jpg',\n",
       " 'Pizza Refund/train/Good_pizza/good_pizza (51).jpg',\n",
       " 'Pizza Refund/train/Good_pizza/good_pizza (74).jpg',\n",
       " 'Pizza Refund/train/Good_pizza/good_pizza (68).jpg',\n",
       " 'Pizza Refund/train/Good_pizza/good_pizza (6).jpg',\n",
       " 'Pizza Refund/train/Good_pizza/good_pizza (6).jpeg',\n",
       " 'Pizza Refund/train/Good_pizza/good_pizza (53).jpg',\n",
       " 'Pizza Refund/train/Good_pizza/good_pizza (52).jpg',\n",
       " 'Pizza Refund/train/Good_pizza/good_pizza (7).jpeg',\n",
       " 'Pizza Refund/train/Good_pizza/good_pizza (56).jpg',\n",
       " 'Pizza Refund/train/Good_pizza/good_pizza (72).jpg',\n",
       " 'Pizza Refund/train/Good_pizza/good_pizza (66).jpg',\n",
       " 'Pizza Refund/train/Good_pizza/good_pizza (5).png',\n",
       " 'Pizza Refund/train/Good_pizza/good_pizza (87).jpg',\n",
       " 'Pizza Refund/train/Good_pizza/good_pizza (81).jpg',\n",
       " 'Pizza Refund/train/Good_pizza/good_pizza (84).jpg',\n",
       " 'Pizza Refund/train/Good_pizza/good_pizza (97).jpg',\n",
       " 'Pizza Refund/train/Good_pizza/good_pizza (94).jpg',\n",
       " 'Pizza Refund/train/Good_pizza/good_pizza (9).png',\n",
       " 'Pizza Refund/train/Good_pizza/good_pizza (79).jpg',\n",
       " 'Pizza Refund/train/Good_pizza/good_pizza (90).jpg',\n",
       " 'Pizza Refund/train/Good_pizza/good_pizza (95).jpg',\n",
       " 'Pizza Refund/train/Good_pizza/good_pizza (96).jpg',\n",
       " 'Pizza Refund/train/Good_pizza/good_pizza (98).jpg',\n",
       " 'Pizza Refund/train/Good_pizza/good_pizza (8).png',\n",
       " 'Pizza Refund/train/Good_pizza/good_pizza (99).jpg',\n",
       " 'Pizza Refund/train/Good_pizza/good_pizza (89).jpg',\n",
       " 'Pizza Refund/train/Good_pizza/good_pizza (88).jpg',\n",
       " 'Pizza Refund/train/Good_pizza/good_pizza (92).jpg',\n",
       " 'Pizza Refund/train/Good_pizza/good_pizza (8).jpg',\n",
       " 'Pizza Refund/train/Good_pizza/good_pizza (85).jpg',\n",
       " 'Pizza Refund/train/Good_pizza/good_pizza (91).jpg',\n",
       " 'Pizza Refund/train/Good_pizza/good_pizza (82).jpg',\n",
       " 'Pizza Refund/train/Good_pizza/good_pizza (78).jpg',\n",
       " 'Pizza Refund/train/Good_pizza/good_pizza (83).jpg',\n",
       " 'Pizza Refund/train/Good_pizza/good_pizza (80).jpg',\n",
       " 'Pizza Refund/train/Good_pizza/good_pizza (93).jpg',\n",
       " 'Pizza Refund/train/Good_pizza/good_pizza (9).jpg',\n",
       " 'Pizza Refund/train/Good_pizza/good_pizza (86).jpg',\n",
       " 'Pizza Refund/train/Good_pizza/good_pizza (8).jpeg',\n",
       " 'Pizza Refund/train/Good_pizza/good_pizza (77).jpg',\n",
       " 'Pizza Refund/train/Good_pizza/good_pizza (9).jpeg']"
      ]
     },
     "execution_count": 6,
     "metadata": {},
     "output_type": "execute_result"
    }
   ],
   "source": [
    "list(paths.list_images('Pizza Refund'))"
   ]
  },
  {
   "cell_type": "code",
   "execution_count": 7,
   "metadata": {
    "colab": {
     "base_uri": "https://localhost:8080/"
    },
    "executionInfo": {
     "elapsed": 6,
     "status": "ok",
     "timestamp": 1680951650027,
     "user": {
      "displayName": "Ritul Pandey",
      "userId": "12925011495414714550"
     },
     "user_tz": -330
    },
    "id": "rJKzl-teKrmu",
    "outputId": "1856c685-1045-4c4b-ea28-9e4b9d3b3a0e"
   },
   "outputs": [
    {
     "name": "stdout",
     "output_type": "stream",
     "text": [
      "\n",
      "CPU times: user 448 µs, sys: 0 ns, total: 448 µs\n",
      "Wall time: 456 µs\n"
     ]
    }
   ],
   "source": [
    "%%time\n",
    "\n",
    "print()"
   ]
  },
  {
   "cell_type": "code",
   "execution_count": 8,
   "metadata": {
    "colab": {
     "base_uri": "https://localhost:8080/",
     "height": 101,
     "referenced_widgets": [
      "0a31b6df47c74014b77b7c14d5eab16a",
      "75dc8178142645bd99ddf9683862ae1c",
      "0179ff12cf584d2d9c58428f88068b46",
      "655d9bea2cea4a30ae152b246aa7f214",
      "37ac9a88f92243c2acec074bfaacbb0e",
      "ebcd178f6703483d94b8c29a0a3f4869",
      "3d281faa0fe84708b35d54bff19e4a85",
      "dce3e4f400c143618fe715db583538f9",
      "7a07b3970f954faf8ab6785cee1d778e",
      "e446a3c3aa354ac09a1c23a3f7aaeaa2",
      "40490e951d044a48bca8df1459b6ffed"
     ]
    },
    "executionInfo": {
     "elapsed": 168585,
     "status": "ok",
     "timestamp": 1680951820081,
     "user": {
      "displayName": "Ritul Pandey",
      "userId": "12925011495414714550"
     },
     "user_tz": -330
    },
    "id": "89RBEFOMKrpY",
    "outputId": "7395a48e-f782-4fe6-9b4c-d40cdca14b75"
   },
   "outputs": [
    {
     "name": "stdout",
     "output_type": "stream",
     "text": [
      "[INFO] loading images...\n"
     ]
    },
    {
     "data": {
      "application/vnd.jupyter.widget-view+json": {
       "model_id": "0a31b6df47c74014b77b7c14d5eab16a",
       "version_major": 2,
       "version_minor": 0
      },
      "text/plain": [
       "  0%|          | 0/749 [00:00<?, ?it/s]"
      ]
     },
     "metadata": {},
     "output_type": "display_data"
    },
    {
     "name": "stdout",
     "output_type": "stream",
     "text": [
      "Time taken: 168.2 seconds\n",
      "done\n"
     ]
    }
   ],
   "source": [
    "print(\"[INFO] loading images...\")\n",
    "time1 = time.time()   \n",
    "data = []\n",
    "labels = []\n",
    "classes = [\"Good_pizza\", \"Burnt_pizza\"]\n",
    "\n",
    "\n",
    "imagePaths = sorted(list(paths.list_images('Pizza Refund')))   \n",
    "random.seed(SEED)\n",
    "random.shuffle(imagePaths)\n",
    "\n",
    "# progress bar \n",
    "with tqdm(total=len(imagePaths)) as pbar:\n",
    "    \n",
    "    # loop over the input images\n",
    "    for imagePath in imagePaths:\n",
    "        image = cv2.imread(imagePath)\n",
    "        image = cv2.resize(image, (32, 32)).flatten()\n",
    "        data.append(image)\n",
    "\n",
    "\n",
    "        label = imagePath.split(os.path.sep)[-2]\n",
    "        \n",
    "        label = 1 if label == \"Good_pizza\" else 0\n",
    "        labels.append(label)\n",
    "    \n",
    "        # update the progressbar\n",
    "        pbar.update(1)\n",
    "\n",
    "# scale the raw pixel intensities to the range [0, 1]\n",
    "data = np.array(data, dtype=\"float\") / 255.0\n",
    "labels = np.array(labels)\n",
    "\n",
    "print('Time taken: {:.1f} seconds'.format(time.time() - time1))   # to measure time taken\n",
    "print(\"done\")"
   ]
  },
  {
   "cell_type": "code",
   "execution_count": 9,
   "metadata": {
    "colab": {
     "base_uri": "https://localhost:8080/"
    },
    "executionInfo": {
     "elapsed": 5,
     "status": "ok",
     "timestamp": 1680951820081,
     "user": {
      "displayName": "Ritul Pandey",
      "userId": "12925011495414714550"
     },
     "user_tz": -330
    },
    "id": "LaF8c6FQKruY",
    "outputId": "3854c977-96d6-409c-ce53-f0ad08db11c7"
   },
   "outputs": [
    {
     "name": "stdout",
     "output_type": "stream",
     "text": [
      "[[0.25882353 0.29019608 0.46666667 ... 0.45490196 0.59215686 0.76470588]\n",
      " [0.2745098  0.34901961 0.44705882 ... 0.3254902  0.34117647 0.71764706]\n",
      " [0.45098039 0.53333333 0.64705882 ... 0.8627451  0.88627451 0.89803922]\n",
      " ...\n",
      " [1.         1.         1.         ... 0.74901961 0.73333333 0.75294118]\n",
      " [0.21960784 0.21960784 0.2745098  ... 0.17254902 0.18431373 0.25490196]\n",
      " [0.79215686 0.80784314 0.85098039 ... 0.00392157 0.03529412 0.17647059]]\n"
     ]
    }
   ],
   "source": [
    "print(data)"
   ]
  },
  {
   "cell_type": "code",
   "execution_count": 10,
   "metadata": {
    "executionInfo": {
     "elapsed": 1,
     "status": "ok",
     "timestamp": 1680951827282,
     "user": {
      "displayName": "Ritul Pandey",
      "userId": "12925011495414714550"
     },
     "user_tz": -330
    },
    "id": "Y6etSiIuNBgA"
   },
   "outputs": [],
   "source": [
    "# convert data into dataframe \n",
    "pizza = pd.DataFrame(data)\n",
    "pizza['label'] = labels"
   ]
  },
  {
   "cell_type": "code",
   "execution_count": 11,
   "metadata": {
    "colab": {
     "base_uri": "https://localhost:8080/",
     "height": 299
    },
    "executionInfo": {
     "elapsed": 5,
     "status": "ok",
     "timestamp": 1680951829868,
     "user": {
      "displayName": "Ritul Pandey",
      "userId": "12925011495414714550"
     },
     "user_tz": -330
    },
    "id": "kIhBxNfkNBjG",
    "outputId": "f3c089d9-bab3-411d-c57a-37b0729f2ae6"
   },
   "outputs": [
    {
     "data": {
      "text/html": [
       "\n",
       "  <div id=\"df-ed799233-9e1f-4a92-9335-19cec7949cb4\">\n",
       "    <div class=\"colab-df-container\">\n",
       "      <div>\n",
       "<style scoped>\n",
       "    .dataframe tbody tr th:only-of-type {\n",
       "        vertical-align: middle;\n",
       "    }\n",
       "\n",
       "    .dataframe tbody tr th {\n",
       "        vertical-align: top;\n",
       "    }\n",
       "\n",
       "    .dataframe thead th {\n",
       "        text-align: right;\n",
       "    }\n",
       "</style>\n",
       "<table border=\"1\" class=\"dataframe\">\n",
       "  <thead>\n",
       "    <tr style=\"text-align: right;\">\n",
       "      <th></th>\n",
       "      <th>0</th>\n",
       "      <th>1</th>\n",
       "      <th>2</th>\n",
       "      <th>3</th>\n",
       "      <th>4</th>\n",
       "      <th>5</th>\n",
       "      <th>6</th>\n",
       "      <th>7</th>\n",
       "      <th>8</th>\n",
       "      <th>9</th>\n",
       "      <th>...</th>\n",
       "      <th>3063</th>\n",
       "      <th>3064</th>\n",
       "      <th>3065</th>\n",
       "      <th>3066</th>\n",
       "      <th>3067</th>\n",
       "      <th>3068</th>\n",
       "      <th>3069</th>\n",
       "      <th>3070</th>\n",
       "      <th>3071</th>\n",
       "      <th>label</th>\n",
       "    </tr>\n",
       "  </thead>\n",
       "  <tbody>\n",
       "    <tr>\n",
       "      <th>0</th>\n",
       "      <td>0.258824</td>\n",
       "      <td>0.290196</td>\n",
       "      <td>0.466667</td>\n",
       "      <td>0.349020</td>\n",
       "      <td>0.388235</td>\n",
       "      <td>0.498039</td>\n",
       "      <td>0.654902</td>\n",
       "      <td>0.627451</td>\n",
       "      <td>0.639216</td>\n",
       "      <td>0.196078</td>\n",
       "      <td>...</td>\n",
       "      <td>0.482353</td>\n",
       "      <td>0.611765</td>\n",
       "      <td>0.788235</td>\n",
       "      <td>0.458824</td>\n",
       "      <td>0.596078</td>\n",
       "      <td>0.768627</td>\n",
       "      <td>0.454902</td>\n",
       "      <td>0.592157</td>\n",
       "      <td>0.764706</td>\n",
       "      <td>0</td>\n",
       "    </tr>\n",
       "    <tr>\n",
       "      <th>1</th>\n",
       "      <td>0.274510</td>\n",
       "      <td>0.349020</td>\n",
       "      <td>0.447059</td>\n",
       "      <td>0.211765</td>\n",
       "      <td>0.317647</td>\n",
       "      <td>0.419608</td>\n",
       "      <td>0.203922</td>\n",
       "      <td>0.321569</td>\n",
       "      <td>0.419608</td>\n",
       "      <td>0.145098</td>\n",
       "      <td>...</td>\n",
       "      <td>0.792157</td>\n",
       "      <td>0.713725</td>\n",
       "      <td>0.643137</td>\n",
       "      <td>0.192157</td>\n",
       "      <td>0.298039</td>\n",
       "      <td>0.772549</td>\n",
       "      <td>0.325490</td>\n",
       "      <td>0.341176</td>\n",
       "      <td>0.717647</td>\n",
       "      <td>1</td>\n",
       "    </tr>\n",
       "    <tr>\n",
       "      <th>2</th>\n",
       "      <td>0.450980</td>\n",
       "      <td>0.533333</td>\n",
       "      <td>0.647059</td>\n",
       "      <td>0.396078</td>\n",
       "      <td>0.501961</td>\n",
       "      <td>0.635294</td>\n",
       "      <td>0.384314</td>\n",
       "      <td>0.490196</td>\n",
       "      <td>0.635294</td>\n",
       "      <td>0.364706</td>\n",
       "      <td>...</td>\n",
       "      <td>0.772549</td>\n",
       "      <td>0.827451</td>\n",
       "      <td>0.850980</td>\n",
       "      <td>0.839216</td>\n",
       "      <td>0.862745</td>\n",
       "      <td>0.870588</td>\n",
       "      <td>0.862745</td>\n",
       "      <td>0.886275</td>\n",
       "      <td>0.898039</td>\n",
       "      <td>1</td>\n",
       "    </tr>\n",
       "    <tr>\n",
       "      <th>3</th>\n",
       "      <td>0.011765</td>\n",
       "      <td>0.019608</td>\n",
       "      <td>0.015686</td>\n",
       "      <td>0.031373</td>\n",
       "      <td>0.023529</td>\n",
       "      <td>0.019608</td>\n",
       "      <td>0.003922</td>\n",
       "      <td>0.003922</td>\n",
       "      <td>0.003922</td>\n",
       "      <td>0.011765</td>\n",
       "      <td>...</td>\n",
       "      <td>0.733333</td>\n",
       "      <td>0.701961</td>\n",
       "      <td>0.635294</td>\n",
       "      <td>0.717647</td>\n",
       "      <td>0.678431</td>\n",
       "      <td>0.607843</td>\n",
       "      <td>0.698039</td>\n",
       "      <td>0.654902</td>\n",
       "      <td>0.576471</td>\n",
       "      <td>0</td>\n",
       "    </tr>\n",
       "    <tr>\n",
       "      <th>4</th>\n",
       "      <td>0.258824</td>\n",
       "      <td>0.403922</td>\n",
       "      <td>0.505882</td>\n",
       "      <td>0.254902</td>\n",
       "      <td>0.403922</td>\n",
       "      <td>0.501961</td>\n",
       "      <td>0.270588</td>\n",
       "      <td>0.427451</td>\n",
       "      <td>0.541176</td>\n",
       "      <td>0.270588</td>\n",
       "      <td>...</td>\n",
       "      <td>0.572549</td>\n",
       "      <td>0.772549</td>\n",
       "      <td>0.850980</td>\n",
       "      <td>0.525490</td>\n",
       "      <td>0.725490</td>\n",
       "      <td>0.803922</td>\n",
       "      <td>0.525490</td>\n",
       "      <td>0.721569</td>\n",
       "      <td>0.800000</td>\n",
       "      <td>0</td>\n",
       "    </tr>\n",
       "  </tbody>\n",
       "</table>\n",
       "<p>5 rows × 3073 columns</p>\n",
       "</div>\n",
       "      <button class=\"colab-df-convert\" onclick=\"convertToInteractive('df-ed799233-9e1f-4a92-9335-19cec7949cb4')\"\n",
       "              title=\"Convert this dataframe to an interactive table.\"\n",
       "              style=\"display:none;\">\n",
       "        \n",
       "  <svg xmlns=\"http://www.w3.org/2000/svg\" height=\"24px\"viewBox=\"0 0 24 24\"\n",
       "       width=\"24px\">\n",
       "    <path d=\"M0 0h24v24H0V0z\" fill=\"none\"/>\n",
       "    <path d=\"M18.56 5.44l.94 2.06.94-2.06 2.06-.94-2.06-.94-.94-2.06-.94 2.06-2.06.94zm-11 1L8.5 8.5l.94-2.06 2.06-.94-2.06-.94L8.5 2.5l-.94 2.06-2.06.94zm10 10l.94 2.06.94-2.06 2.06-.94-2.06-.94-.94-2.06-.94 2.06-2.06.94z\"/><path d=\"M17.41 7.96l-1.37-1.37c-.4-.4-.92-.59-1.43-.59-.52 0-1.04.2-1.43.59L10.3 9.45l-7.72 7.72c-.78.78-.78 2.05 0 2.83L4 21.41c.39.39.9.59 1.41.59.51 0 1.02-.2 1.41-.59l7.78-7.78 2.81-2.81c.8-.78.8-2.07 0-2.86zM5.41 20L4 18.59l7.72-7.72 1.47 1.35L5.41 20z\"/>\n",
       "  </svg>\n",
       "      </button>\n",
       "      \n",
       "  <style>\n",
       "    .colab-df-container {\n",
       "      display:flex;\n",
       "      flex-wrap:wrap;\n",
       "      gap: 12px;\n",
       "    }\n",
       "\n",
       "    .colab-df-convert {\n",
       "      background-color: #E8F0FE;\n",
       "      border: none;\n",
       "      border-radius: 50%;\n",
       "      cursor: pointer;\n",
       "      display: none;\n",
       "      fill: #1967D2;\n",
       "      height: 32px;\n",
       "      padding: 0 0 0 0;\n",
       "      width: 32px;\n",
       "    }\n",
       "\n",
       "    .colab-df-convert:hover {\n",
       "      background-color: #E2EBFA;\n",
       "      box-shadow: 0px 1px 2px rgba(60, 64, 67, 0.3), 0px 1px 3px 1px rgba(60, 64, 67, 0.15);\n",
       "      fill: #174EA6;\n",
       "    }\n",
       "\n",
       "    [theme=dark] .colab-df-convert {\n",
       "      background-color: #3B4455;\n",
       "      fill: #D2E3FC;\n",
       "    }\n",
       "\n",
       "    [theme=dark] .colab-df-convert:hover {\n",
       "      background-color: #434B5C;\n",
       "      box-shadow: 0px 1px 3px 1px rgba(0, 0, 0, 0.15);\n",
       "      filter: drop-shadow(0px 1px 2px rgba(0, 0, 0, 0.3));\n",
       "      fill: #FFFFFF;\n",
       "    }\n",
       "  </style>\n",
       "\n",
       "      <script>\n",
       "        const buttonEl =\n",
       "          document.querySelector('#df-ed799233-9e1f-4a92-9335-19cec7949cb4 button.colab-df-convert');\n",
       "        buttonEl.style.display =\n",
       "          google.colab.kernel.accessAllowed ? 'block' : 'none';\n",
       "\n",
       "        async function convertToInteractive(key) {\n",
       "          const element = document.querySelector('#df-ed799233-9e1f-4a92-9335-19cec7949cb4');\n",
       "          const dataTable =\n",
       "            await google.colab.kernel.invokeFunction('convertToInteractive',\n",
       "                                                     [key], {});\n",
       "          if (!dataTable) return;\n",
       "\n",
       "          const docLinkHtml = 'Like what you see? Visit the ' +\n",
       "            '<a target=\"_blank\" href=https://colab.research.google.com/notebooks/data_table.ipynb>data table notebook</a>'\n",
       "            + ' to learn more about interactive tables.';\n",
       "          element.innerHTML = '';\n",
       "          dataTable['output_type'] = 'display_data';\n",
       "          await google.colab.output.renderOutput(dataTable, element);\n",
       "          const docLink = document.createElement('div');\n",
       "          docLink.innerHTML = docLinkHtml;\n",
       "          element.appendChild(docLink);\n",
       "        }\n",
       "      </script>\n",
       "    </div>\n",
       "  </div>\n",
       "  "
      ],
      "text/plain": [
       "          0         1         2         3         4         5         6  \\\n",
       "0  0.258824  0.290196  0.466667  0.349020  0.388235  0.498039  0.654902   \n",
       "1  0.274510  0.349020  0.447059  0.211765  0.317647  0.419608  0.203922   \n",
       "2  0.450980  0.533333  0.647059  0.396078  0.501961  0.635294  0.384314   \n",
       "3  0.011765  0.019608  0.015686  0.031373  0.023529  0.019608  0.003922   \n",
       "4  0.258824  0.403922  0.505882  0.254902  0.403922  0.501961  0.270588   \n",
       "\n",
       "          7         8         9  ...      3063      3064      3065      3066  \\\n",
       "0  0.627451  0.639216  0.196078  ...  0.482353  0.611765  0.788235  0.458824   \n",
       "1  0.321569  0.419608  0.145098  ...  0.792157  0.713725  0.643137  0.192157   \n",
       "2  0.490196  0.635294  0.364706  ...  0.772549  0.827451  0.850980  0.839216   \n",
       "3  0.003922  0.003922  0.011765  ...  0.733333  0.701961  0.635294  0.717647   \n",
       "4  0.427451  0.541176  0.270588  ...  0.572549  0.772549  0.850980  0.525490   \n",
       "\n",
       "       3067      3068      3069      3070      3071  label  \n",
       "0  0.596078  0.768627  0.454902  0.592157  0.764706      0  \n",
       "1  0.298039  0.772549  0.325490  0.341176  0.717647      1  \n",
       "2  0.862745  0.870588  0.862745  0.886275  0.898039      1  \n",
       "3  0.678431  0.607843  0.698039  0.654902  0.576471      0  \n",
       "4  0.725490  0.803922  0.525490  0.721569  0.800000      0  \n",
       "\n",
       "[5 rows x 3073 columns]"
      ]
     },
     "execution_count": 11,
     "metadata": {},
     "output_type": "execute_result"
    }
   ],
   "source": [
    "pizza.head()"
   ]
  },
  {
   "cell_type": "code",
   "execution_count": 12,
   "metadata": {
    "colab": {
     "base_uri": "https://localhost:8080/"
    },
    "executionInfo": {
     "elapsed": 5,
     "status": "ok",
     "timestamp": 1680951834541,
     "user": {
      "displayName": "Ritul Pandey",
      "userId": "12925011495414714550"
     },
     "user_tz": -330
    },
    "id": "d5wle63HNBlk",
    "outputId": "6106dad4-5b8a-4c2d-a919-db889f06df29"
   },
   "outputs": [
    {
     "data": {
      "text/plain": [
       "(749, 3073)"
      ]
     },
     "execution_count": 12,
     "metadata": {},
     "output_type": "execute_result"
    }
   ],
   "source": [
    "pizza.shape"
   ]
  },
  {
   "cell_type": "code",
   "execution_count": 13,
   "metadata": {
    "executionInfo": {
     "elapsed": 390,
     "status": "ok",
     "timestamp": 1680951837200,
     "user": {
      "displayName": "Ritul Pandey",
      "userId": "12925011495414714550"
     },
     "user_tz": -330
    },
    "id": "Pqo4BCrkNBqX"
   },
   "outputs": [],
   "source": [
    "# splitting the model into train and test\n",
    "(trainX, testX, trainY, testY) = train_test_split(data, labels, test_size=0.2, random_state=SEED)"
   ]
  },
  {
   "cell_type": "code",
   "execution_count": 14,
   "metadata": {
    "colab": {
     "base_uri": "https://localhost:8080/"
    },
    "executionInfo": {
     "elapsed": 1,
     "status": "ok",
     "timestamp": 1680951838926,
     "user": {
      "displayName": "Ritul Pandey",
      "userId": "12925011495414714550"
     },
     "user_tz": -330
    },
    "id": "7uyPnPOLNBsl",
    "outputId": "30e048f9-b6ed-423b-eb5a-36e407c8f104"
   },
   "outputs": [
    {
     "data": {
      "text/plain": [
       "(599, 3072)"
      ]
     },
     "execution_count": 14,
     "metadata": {},
     "output_type": "execute_result"
    }
   ],
   "source": [
    "trainX.shape "
   ]
  },
  {
   "cell_type": "code",
   "execution_count": 15,
   "metadata": {
    "colab": {
     "base_uri": "https://localhost:8080/"
    },
    "executionInfo": {
     "elapsed": 2,
     "status": "ok",
     "timestamp": 1680951841245,
     "user": {
      "displayName": "Ritul Pandey",
      "userId": "12925011495414714550"
     },
     "user_tz": -330
    },
    "id": "IPaaOv2DNBuq",
    "outputId": "3b6b748d-8a73-48e6-fdc7-01ea90ea312a"
   },
   "outputs": [
    {
     "data": {
      "text/plain": [
       "(599,)"
      ]
     },
     "execution_count": 15,
     "metadata": {},
     "output_type": "execute_result"
    }
   ],
   "source": [
    "trainY.shape"
   ]
  },
  {
   "cell_type": "code",
   "execution_count": 16,
   "metadata": {
    "colab": {
     "base_uri": "https://localhost:8080/"
    },
    "executionInfo": {
     "elapsed": 1,
     "status": "ok",
     "timestamp": 1680951842840,
     "user": {
      "displayName": "Ritul Pandey",
      "userId": "12925011495414714550"
     },
     "user_tz": -330
    },
    "id": "xt_mWz4gNBw4",
    "outputId": "0ce2c2fc-0b4a-4565-cbf0-1a752509ccae"
   },
   "outputs": [
    {
     "data": {
      "text/plain": [
       "(150, 3072)"
      ]
     },
     "execution_count": 16,
     "metadata": {},
     "output_type": "execute_result"
    }
   ],
   "source": [
    "testX.shape"
   ]
  },
  {
   "cell_type": "code",
   "execution_count": 17,
   "metadata": {
    "colab": {
     "base_uri": "https://localhost:8080/"
    },
    "executionInfo": {
     "elapsed": 4,
     "status": "ok",
     "timestamp": 1680951844292,
     "user": {
      "displayName": "Ritul Pandey",
      "userId": "12925011495414714550"
     },
     "user_tz": -330
    },
    "id": "EQFDWd7vOEvq",
    "outputId": "4b7324e6-c3e2-4a59-b280-8218f9cd1bce"
   },
   "outputs": [
    {
     "data": {
      "text/plain": [
       "(150,)"
      ]
     },
     "execution_count": 17,
     "metadata": {},
     "output_type": "execute_result"
    }
   ],
   "source": [
    "testY.shape"
   ]
  },
  {
   "cell_type": "code",
   "execution_count": 18,
   "metadata": {
    "colab": {
     "base_uri": "https://localhost:8080/"
    },
    "executionInfo": {
     "elapsed": 2,
     "status": "ok",
     "timestamp": 1680951846157,
     "user": {
      "displayName": "Ritul Pandey",
      "userId": "12925011495414714550"
     },
     "user_tz": -330
    },
    "id": "jDY_5ImjOHM1",
    "outputId": "5822ad5d-c2b2-4a22-8fda-ff9ddb8467f5"
   },
   "outputs": [
    {
     "data": {
      "text/plain": [
       "array([[0.98039216, 1.        , 0.99215686, ..., 0.28235294, 0.2       ,\n",
       "        0.19607843],\n",
       "       [0.9372549 , 0.92156863, 0.91764706, ..., 0.99215686, 0.99215686,\n",
       "        0.99215686],\n",
       "       [0.03137255, 0.06666667, 0.15686275, ..., 0.00784314, 0.01568627,\n",
       "        0.03921569],\n",
       "       ...,\n",
       "       [0.34117647, 0.28627451, 0.30196078, ..., 0.28235294, 0.25490196,\n",
       "        0.2745098 ],\n",
       "       [0.08235294, 0.14117647, 0.21568627, ..., 0.16078431, 0.29019608,\n",
       "        0.45882353],\n",
       "       [0.4745098 , 0.45882353, 0.5372549 , ..., 0.5254902 , 0.85098039,\n",
       "        0.90196078]])"
      ]
     },
     "execution_count": 18,
     "metadata": {},
     "output_type": "execute_result"
    }
   ],
   "source": [
    "trainX"
   ]
  },
  {
   "cell_type": "code",
   "execution_count": 19,
   "metadata": {
    "colab": {
     "base_uri": "https://localhost:8080/"
    },
    "executionInfo": {
     "elapsed": 2,
     "status": "ok",
     "timestamp": 1680951847887,
     "user": {
      "displayName": "Ritul Pandey",
      "userId": "12925011495414714550"
     },
     "user_tz": -330
    },
    "id": "ppNUjvTlOL6a",
    "outputId": "a5747dfd-a559-4505-9fea-1bc12dd3c815"
   },
   "outputs": [
    {
     "data": {
      "text/plain": [
       "array([0, 1, 1, 0, 0, 1, 0, 0, 1, 1, 1, 0, 1, 1, 1, 0, 0, 1, 0, 1, 0, 1,\n",
       "       1, 0, 0, 1, 0, 0, 0, 1, 1, 0, 0, 0, 1, 1, 1, 1, 1, 1, 0, 1, 1, 1,\n",
       "       1, 0, 1, 0, 1, 0, 0, 1, 1, 1, 0, 1, 0, 1, 1, 1, 1, 0, 0, 1, 1, 0,\n",
       "       1, 0, 1, 1, 1, 1, 0, 1, 1, 1, 1, 1, 1, 1, 1, 0, 0, 1, 0, 0, 0, 1,\n",
       "       0, 1, 0, 0, 0, 0, 1, 1, 1, 1, 1, 1, 1, 1, 1, 1, 1, 0, 0, 0, 1, 1,\n",
       "       0, 1, 1, 0, 0, 0, 1, 0, 0, 1, 1, 1, 1, 1, 1, 1, 1, 1, 1, 0, 0, 1,\n",
       "       1, 0, 1, 0, 0, 1, 1, 0, 0, 1, 1, 0, 1, 0, 0, 1, 1, 1, 1, 1, 0, 0,\n",
       "       0, 0, 1, 1, 1, 0, 0, 0, 1, 0, 1, 1, 1, 0, 1, 1, 1, 0, 1, 0, 0, 0,\n",
       "       1, 0, 0, 1, 1, 1, 1, 1, 0, 0, 1, 1, 0, 0, 0, 0, 1, 1, 0, 1, 0, 1,\n",
       "       0, 1, 1, 1, 0, 1, 1, 0, 1, 1, 1, 0, 0, 1, 0, 0, 1, 0, 1, 1, 1, 0,\n",
       "       1, 1, 1, 1, 1, 0, 0, 1, 1, 1, 0, 1, 1, 1, 0, 0, 0, 0, 0, 1, 0, 0,\n",
       "       1, 0, 1, 1, 0, 1, 1, 1, 0, 1, 1, 0, 1, 1, 0, 0, 1, 0, 0, 1, 0, 1,\n",
       "       0, 0, 1, 1, 1, 1, 1, 1, 1, 1, 0, 0, 0, 0, 0, 0, 0, 0, 1, 0, 1, 1,\n",
       "       1, 0, 1, 0, 1, 1, 0, 1, 0, 1, 1, 1, 0, 1, 1, 1, 0, 0, 1, 1, 1, 0,\n",
       "       1, 0, 1, 1, 1, 0, 1, 0, 0, 1, 0, 1, 1, 1, 1, 1, 1, 0, 1, 1, 1, 1,\n",
       "       1, 1, 1, 0, 1, 0, 1, 0, 0, 1, 1, 0, 1, 0, 0, 0, 1, 0, 0, 1, 0, 1,\n",
       "       1, 1, 0, 1, 1, 0, 1, 0, 0, 0, 1, 1, 1, 0, 1, 1, 0, 1, 0, 0, 1, 0,\n",
       "       1, 0, 1, 1, 1, 0, 0, 0, 1, 1, 1, 0, 0, 1, 1, 1, 0, 1, 1, 1, 1, 1,\n",
       "       1, 0, 0, 1, 1, 1, 0, 1, 0, 1, 1, 1, 1, 0, 1, 1, 0, 1, 1, 1, 0, 0,\n",
       "       0, 0, 0, 0, 1, 0, 0, 1, 1, 1, 1, 1, 1, 1, 1, 1, 0, 1, 1, 0, 0, 1,\n",
       "       0, 0, 1, 0, 1, 0, 1, 1, 1, 1, 0, 0, 1, 1, 0, 0, 1, 1, 1, 0, 1, 0,\n",
       "       1, 1, 1, 1, 1, 0, 0, 1, 0, 1, 0, 1, 0, 0, 1, 0, 0, 1, 1, 1, 1, 0,\n",
       "       1, 1, 1, 0, 1, 1, 0, 0, 1, 1, 1, 1, 0, 1, 1, 1, 0, 0, 0, 0, 0, 1,\n",
       "       1, 0, 1, 1, 1, 0, 0, 0, 0, 1, 0, 0, 1, 0, 0, 1, 1, 0, 1, 1, 1, 0,\n",
       "       1, 0, 1, 1, 1, 0, 1, 1, 1, 0, 1, 1, 1, 0, 1, 1, 1, 0, 1, 1, 1, 1,\n",
       "       1, 0, 1, 0, 0, 0, 0, 0, 1, 0, 1, 1, 1, 1, 1, 1, 0, 0, 0, 1, 0, 1,\n",
       "       0, 1, 1, 1, 0, 1, 1, 0, 1, 1, 1, 1, 1, 1, 0, 0, 1, 1, 1, 1, 1, 0,\n",
       "       1, 0, 1, 1, 0])"
      ]
     },
     "execution_count": 19,
     "metadata": {},
     "output_type": "execute_result"
    }
   ],
   "source": [
    "trainY"
   ]
  },
  {
   "cell_type": "code",
   "execution_count": 20,
   "metadata": {
    "executionInfo": {
     "elapsed": 2,
     "status": "ok",
     "timestamp": 1680951850315,
     "user": {
      "displayName": "Ritul Pandey",
      "userId": "12925011495414714550"
     },
     "user_tz": -330
    },
    "id": "O_i0QlmTONft"
   },
   "outputs": [],
   "source": [
    "# convert the labels from integers/categories to vectors \n",
    "\n",
    "trainY = to_categorical(trainY, num_classes=2)   \n",
    "testY = to_categorical(testY, num_classes=2)   \n",
    "\n",
    "# [0,1] Good_pizza\n",
    "# [1,0] Burnt_pizza"
   ]
  },
  {
   "cell_type": "code",
   "execution_count": 21,
   "metadata": {
    "executionInfo": {
     "elapsed": 2,
     "status": "ok",
     "timestamp": 1680951851452,
     "user": {
      "displayName": "Ritul Pandey",
      "userId": "12925011495414714550"
     },
     "user_tz": -330
    },
    "id": "w1j_uNwwOr3G"
   },
   "outputs": [],
   "source": [
    "sample_image = (trainX[14] * 255).astype(\"int\")"
   ]
  },
  {
   "cell_type": "code",
   "execution_count": 22,
   "metadata": {
    "colab": {
     "base_uri": "https://localhost:8080/",
     "height": 447
    },
    "executionInfo": {
     "elapsed": 1009,
     "status": "ok",
     "timestamp": 1680951854038,
     "user": {
      "displayName": "Ritul Pandey",
      "userId": "12925011495414714550"
     },
     "user_tz": -330
    },
    "id": "RQOtPL8tOxm6",
    "outputId": "a371b313-5ac3-45ae-a23b-02455c289d87"
   },
   "outputs": [
    {
     "data": {
      "text/plain": [
       "<matplotlib.image.AxesImage at 0x7fc672e38610>"
      ]
     },
     "execution_count": 22,
     "metadata": {},
     "output_type": "execute_result"
    },
    {
     "data": {
      "image/png": "[encoded data removed]",
      "text/plain": [
       "<Figure size 640x480 with 1 Axes>"
      ]
     },
     "metadata": {},
     "output_type": "display_data"
    }
   ],
   "source": [
    "plt.imshow(sample_image.reshape(32,32,3))"
   ]
  },
  {
   "cell_type": "code",
   "execution_count": 23,
   "metadata": {
    "colab": {
     "base_uri": "https://localhost:8080/"
    },
    "executionInfo": {
     "elapsed": 3,
     "status": "ok",
     "timestamp": 1680951854617,
     "user": {
      "displayName": "Ritul Pandey",
      "userId": "12925011495414714550"
     },
     "user_tz": -330
    },
    "id": "hyCidh0UO1fe",
    "outputId": "900eb343-eece-4f7c-b267-a76a5d5ab496"
   },
   "outputs": [
    {
     "data": {
      "text/plain": [
       "array([0., 1.], dtype=float32)"
      ]
     },
     "execution_count": 23,
     "metadata": {},
     "output_type": "execute_result"
    }
   ],
   "source": [
    "trainY[52]   # [0,1] means good_pizza [1,0] means burnt_pizza"
   ]
  },
  {
   "cell_type": "code",
   "execution_count": 24,
   "metadata": {
    "executionInfo": {
     "elapsed": 3469,
     "status": "ok",
     "timestamp": 1680951859725,
     "user": {
      "displayName": "Ritul Pandey",
      "userId": "12925011495414714550"
     },
     "user_tz": -330
    },
    "id": "DA5_cEOeQjpl"
   },
   "outputs": [],
   "source": [
    "model = Sequential()   \n",
    "\n",
    "# first hidden layer has 1024 nodes\n",
    "model.add(Dense(units= 1024, input_shape=(3072,), kernel_initializer = 'uniform', activation=\"relu\"))  \n",
    "\n",
    "#second hidden layer has 800 nodes\n",
    "model.add(Dense(units= 800, kernel_initializer = 'uniform', activation=\"relu\"))\n",
    "\n",
    "\n",
    "# third hidden layer has 512 nodes\n",
    "model.add(Dense(units=512, kernel_initializer='uniform', activation=\"relu\"))                         \n",
    "\n",
    " # output layer with number of possible class labels\n",
    "model.add(Dense(units=2,kernel_initializer='uniform', activation=\"sigmoid\"))     "
   ]
  },
  {
   "cell_type": "code",
   "execution_count": 25,
   "metadata": {
    "colab": {
     "base_uri": "https://localhost:8080/"
    },
    "executionInfo": {
     "elapsed": 1,
     "status": "ok",
     "timestamp": 1680951861744,
     "user": {
      "displayName": "Ritul Pandey",
      "userId": "12925011495414714550"
     },
     "user_tz": -330
    },
    "id": "xOPr4sFSRQTA",
    "outputId": "78d32b69-c78b-496c-b0fa-b163c98de25f"
   },
   "outputs": [
    {
     "name": "stderr",
     "output_type": "stream",
     "text": [
      "WARNING:absl:`lr` is deprecated in Keras optimizer, please use `learning_rate` or use the legacy optimizer, e.g.,tf.keras.optimizers.legacy.SGD.\n"
     ]
    }
   ],
   "source": [
    "INIT_LR = 0.05\n",
    "opt = SGD(lr=INIT_LR)   \n",
    "model.compile(loss=\"binary_crossentropy\", optimizer=opt, metrics=[\"accuracy\"] )"
   ]
  },
  {
   "cell_type": "code",
   "execution_count": 26,
   "metadata": {
    "colab": {
     "base_uri": "https://localhost:8080/"
    },
    "executionInfo": {
     "elapsed": 3,
     "status": "ok",
     "timestamp": 1680951864125,
     "user": {
      "displayName": "Ritul Pandey",
      "userId": "12925011495414714550"
     },
     "user_tz": -330
    },
    "id": "e8EegozcRUAx",
    "outputId": "f9752b13-b029-4a5f-e6ea-6525f4b825fd"
   },
   "outputs": [
    {
     "name": "stdout",
     "output_type": "stream",
     "text": [
      "Model: \"sequential\"\n",
      "_________________________________________________________________\n",
      " Layer (type)                Output Shape              Param #   \n",
      "=================================================================\n",
      " dense (Dense)               (None, 1024)              3146752   \n",
      "                                                                 \n",
      " dense_1 (Dense)             (None, 800)               820000    \n",
      "                                                                 \n",
      " dense_2 (Dense)             (None, 512)               410112    \n",
      "                                                                 \n",
      " dense_3 (Dense)             (None, 2)                 1026      \n",
      "                                                                 \n",
      "=================================================================\n",
      "Total params: 4,377,890\n",
      "Trainable params: 4,377,890\n",
      "Non-trainable params: 0\n",
      "_________________________________________________________________\n"
     ]
    }
   ],
   "source": [
    "model.summary()"
   ]
  },
  {
   "cell_type": "code",
   "execution_count": 27,
   "metadata": {
    "colab": {
     "base_uri": "https://localhost:8080/"
    },
    "executionInfo": {
     "elapsed": 5790,
     "status": "ok",
     "timestamp": 1680951872500,
     "user": {
      "displayName": "Ritul Pandey",
      "userId": "12925011495414714550"
     },
     "user_tz": -330
    },
    "id": "zZyAW0BeRctH",
    "outputId": "cdba3c8b-33c7-4099-8dc0-bdac85a8c208"
   },
   "outputs": [
    {
     "name": "stdout",
     "output_type": "stream",
     "text": [
      "Epoch 1/5\n",
      "19/19 [==============================] - 5s 14ms/step - loss: 0.6597 - accuracy: 0.5943 - val_loss: 0.6920 - val_accuracy: 0.5000\n",
      "Epoch 2/5\n",
      "19/19 [==============================] - 0s 5ms/step - loss: 0.6412 - accuracy: 0.5943 - val_loss: 0.6770 - val_accuracy: 0.5000\n",
      "Epoch 3/5\n",
      "19/19 [==============================] - 0s 6ms/step - loss: 0.6275 - accuracy: 0.5943 - val_loss: 0.6707 - val_accuracy: 0.5000\n",
      "Epoch 4/5\n",
      "19/19 [==============================] - 0s 5ms/step - loss: 0.6138 - accuracy: 0.5943 - val_loss: 0.6547 - val_accuracy: 0.5000\n",
      "Epoch 5/5\n",
      "19/19 [==============================] - 0s 5ms/step - loss: 0.5996 - accuracy: 0.6110 - val_loss: 0.6371 - val_accuracy: 0.5600\n"
     ]
    }
   ],
   "source": [
    "EPOCHS = 5\n",
    "H = model.fit(trainX,trainY,validation_data=(testX,testY), epochs=EPOCHS, batch_size=32)"
   ]
  },
  {
   "cell_type": "code",
   "execution_count": 28,
   "metadata": {
    "colab": {
     "base_uri": "https://localhost:8080/"
    },
    "executionInfo": {
     "elapsed": 478,
     "status": "ok",
     "timestamp": 1680951886130,
     "user": {
      "displayName": "Ritul Pandey",
      "userId": "12925011495414714550"
     },
     "user_tz": -330
    },
    "id": "_NfvVgjWRmDi",
    "outputId": "90eb50c7-8c07-4a6c-fcf6-cd5e66a3dc3d"
   },
   "outputs": [
    {
     "name": "stdout",
     "output_type": "stream",
     "text": [
      "[INFO] evaluating network...\n",
      "5/5 [==============================] - 0s 3ms/step\n"
     ]
    }
   ],
   "source": [
    "print(\"[INFO] evaluating network...\")\n",
    "pred_prob = model.predict(testX, batch_size=32)"
   ]
  },
  {
   "cell_type": "code",
   "execution_count": 29,
   "metadata": {
    "executionInfo": {
     "elapsed": 4,
     "status": "ok",
     "timestamp": 1680951887638,
     "user": {
      "displayName": "Ritul Pandey",
      "userId": "12925011495414714550"
     },
     "user_tz": -330
    },
    "id": "f8ZyKJ7cRy2l"
   },
   "outputs": [],
   "source": [
    "test_y = [ np.argmax(i)  for i in testY]\n",
    "pred_y = [ np.argmax(i)  for i in pred_prob]"
   ]
  },
  {
   "cell_type": "code",
   "execution_count": 30,
   "metadata": {
    "executionInfo": {
     "elapsed": 1,
     "status": "ok",
     "timestamp": 1680951889311,
     "user": {
      "displayName": "Ritul Pandey",
      "userId": "12925011495414714550"
     },
     "user_tz": -330
    },
    "id": "2x3EeI_jR18V"
   },
   "outputs": [],
   "source": [
    "def plot_confusion_metrix(y_true, y_pred,classes,\n",
    "                         normalize=False,\n",
    "                         title='Confusion Matrix',\n",
    "                         cmap=plt.cm.Blues):\n",
    "    \n",
    "    cm = confusion_matrix(y_true,y_pred)\n",
    "    \n",
    "    \n",
    "    if normalize:\n",
    "        cm = cm.astype('float') / cm.sum(axis=1)[:, np.newaxis]\n",
    "        print(\"Normalized Confusion Matrix\")\n",
    "    else:\n",
    "        print(\"Confusion Matrix, Without Normalisation\")\n",
    "\n",
    "    \n",
    "    plt.imshow(cm, interpolation='nearest',cmap=cmap)\n",
    "    plt.title(title)\n",
    "    plt.colorbar()\n",
    "    tick_marks = np.arange(len(classes))\n",
    "    plt.xticks(tick_marks,classes,rotation=35)\n",
    "    plt.yticks(tick_marks,classes)\n",
    "    \n",
    "    fmt = '.2f' if normalize else 'd'\n",
    "    thresh = cm.max() /2.\n",
    "    \n",
    "    for i , j in itertools.product(range(cm.shape[0]), range(cm.shape[0])):\n",
    "        plt.text(j, i, format(cm[i,j], fmt),\n",
    "                 horizontalalignment='center',\n",
    "                 color='white' if cm[i, j] > thresh else 'black')\n",
    "    \n",
    "    plt.ylabel('Actual Image label')\n",
    "    plt.xlabel('Each Image Label')\n",
    "    # plt.tight_layout()\n",
    "    \n",
    "    plt.show()\n",
    "    \n",
    "    print(\"-----------------------------------------------------\")\n",
    "    print('Classification report')\n",
    "    print(classification_report(y_true,y_pred))\n",
    "    \n",
    "    print(\"-----------------------------------------------------\")\n",
    "    acc= accuracy_score(y_true,y_pred)\n",
    "    print(\"Accuracy of the model: \", acc)\n"
   ]
  },
  {
   "cell_type": "code",
   "execution_count": 31,
   "metadata": {
    "colab": {
     "base_uri": "https://localhost:8080/",
     "height": 769
    },
    "executionInfo": {
     "elapsed": 895,
     "status": "ok",
     "timestamp": 1680951892650,
     "user": {
      "displayName": "Ritul Pandey",
      "userId": "12925011495414714550"
     },
     "user_tz": -330
    },
    "id": "cvl7pIH1SMNt",
    "outputId": "51ee0348-a7ea-4050-8b59-914c2b752e61"
   },
   "outputs": [
    {
     "name": "stdout",
     "output_type": "stream",
     "text": [
      "Confusion Matrix, Without Normalisation\n"
     ]
    },
    {
     "data": {
      "image/png": "[encoded data removed]",
      "text/plain": [
       "<Figure size 640x480 with 2 Axes>"
      ]
     },
     "metadata": {},
     "output_type": "display_data"
    },
    {
     "name": "stdout",
     "output_type": "stream",
     "text": [
      "-----------------------------------------------------\n",
      "Classification report\n",
      "              precision    recall  f1-score   support\n",
      "\n",
      "           0       1.00      0.12      0.21        75\n",
      "           1       0.53      1.00      0.69        75\n",
      "\n",
      "    accuracy                           0.56       150\n",
      "   macro avg       0.77      0.56      0.45       150\n",
      "weighted avg       0.77      0.56      0.45       150\n",
      "\n",
      "-----------------------------------------------------\n",
      "Accuracy of the model:  0.56\n"
     ]
    }
   ],
   "source": [
    "plot_confusion_metrix(test_y, pred_y, classes=[\"Burnt_pizza: 0\",\"Good_pizza: 1\"])"
   ]
  },
  {
   "cell_type": "code",
   "execution_count": 44,
   "metadata": {
    "executionInfo": {
     "elapsed": 1,
     "status": "ok",
     "timestamp": 1680952103915,
     "user": {
      "displayName": "Ritul Pandey",
      "userId": "12925011495414714550"
     },
     "user_tz": -330
    },
    "id": "HRVK-9j7fSNH"
   },
   "outputs": [],
   "source": []
  },
  {
   "cell_type": "code",
   "execution_count": null,
   "metadata": {
    "id": "1TQg6D9IfSSQ"
   },
   "outputs": [],
   "source": []
  },
  {
   "cell_type": "code",
   "execution_count": null,
   "metadata": {
    "id": "9F_0C-8fflsZ"
   },
   "outputs": [],
   "source": []
  },
  {
   "cell_type": "code",
   "execution_count": null,
   "metadata": {
    "id": "OCOCso9yflu-"
   },
   "outputs": [],
   "source": []
  },
  {
   "cell_type": "code",
   "execution_count": null,
   "metadata": {
    "id": "o10X2bakflx3"
   },
   "outputs": [],
   "source": []
  },
  {
   "cell_type": "code",
   "execution_count": null,
   "metadata": {
    "id": "V9t_IJ_Lfl0f"
   },
   "outputs": [],
   "source": []
  },
  {
   "cell_type": "code",
   "execution_count": null,
   "metadata": {
    "id": "ViZWuwHZfl3Q"
   },
   "outputs": [],
   "source": []
  },
  {
   "cell_type": "code",
   "execution_count": null,
   "metadata": {
    "id": "Lnxvbj6gfl5n"
   },
   "outputs": [],
   "source": []
  },
  {
   "cell_type": "code",
   "execution_count": null,
   "metadata": {
    "id": "xIjOTPUYfSU4"
   },
   "outputs": [],
   "source": []
  },
  {
   "cell_type": "code",
   "execution_count": null,
   "metadata": {
    "id": "bRtVPyWnfSXf"
   },
   "outputs": [],
   "source": []
  },
  {
   "cell_type": "code",
   "execution_count": null,
   "metadata": {
    "id": "vvogkRuSfSZp"
   },
   "outputs": [],
   "source": []
  }
 ],
 "metadata": {
  "accelerator": "GPU",
  "colab": {
   "authorship_tag": "ABX9TyMO3tG6Dy8plbg2Wiv0cFEC",
   "provenance": []
  },
  "gpuClass": "standard",
  "kernelspec": {
   "display_name": "Python 3",
   "language": "python",
   "name": "python3"
  },
  "language_info": {
   "codemirror_mode": {
    "name": "ipython",
    "version": 3
   },
   "file_extension": ".py",
   "mimetype": "text/x-python",
   "name": "python",
   "nbconvert_exporter": "python",
   "pygments_lexer": "ipython3",
   "version": "3.7.6"
  },
  "widgets": {
   "application/vnd.jupyter.widget-state+json": {
    "0179ff12cf584d2d9c58428f88068b46": {
     "model_module": "@jupyter-widgets/controls",
     "model_module_version": "1.5.0",
     "model_name": "FloatProgressModel",
     "state": {
      "_dom_classes": [],
      "_model_module": "@jupyter-widgets/controls",
      "_model_module_version": "1.5.0",
      "_model_name": "FloatProgressModel",
      "_view_count": null,
      "_view_module": "@jupyter-widgets/controls",
      "_view_module_version": "1.5.0",
      "_view_name": "ProgressView",
      "bar_style": "success",
      "description": "",
      "description_tooltip": null,
      "layout": "IPY_MODEL_dce3e4f400c143618fe715db583538f9",
      "max": 749,
      "min": 0,
      "orientation": "horizontal",
      "style": "IPY_MODEL_7a07b3970f954faf8ab6785cee1d778e",
      "value": 749
     }
    },
    "0a31b6df47c74014b77b7c14d5eab16a": {
     "model_module": "@jupyter-widgets/controls",
     "model_module_version": "1.5.0",
     "model_name": "HBoxModel",
     "state": {
      "_dom_classes": [],
      "_model_module": "@jupyter-widgets/controls",
      "_model_module_version": "1.5.0",
      "_model_name": "HBoxModel",
      "_view_count": null,
      "_view_module": "@jupyter-widgets/controls",
      "_view_module_version": "1.5.0",
      "_view_name": "HBoxView",
      "box_style": "",
      "children": [
       "IPY_MODEL_75dc8178142645bd99ddf9683862ae1c",
       "IPY_MODEL_0179ff12cf584d2d9c58428f88068b46",
       "IPY_MODEL_655d9bea2cea4a30ae152b246aa7f214"
      ],
      "layout": "IPY_MODEL_37ac9a88f92243c2acec074bfaacbb0e"
     }
    },
    "37ac9a88f92243c2acec074bfaacbb0e": {
     "model_module": "@jupyter-widgets/base",
     "model_module_version": "1.2.0",
     "model_name": "LayoutModel",
     "state": {
      "_model_module": "@jupyter-widgets/base",
      "_model_module_version": "1.2.0",
      "_model_name": "LayoutModel",
      "_view_count": null,
      "_view_module": "@jupyter-widgets/base",
      "_view_module_version": "1.2.0",
      "_view_name": "LayoutView",
      "align_content": null,
      "align_items": null,
      "align_self": null,
      "border": null,
      "bottom": null,
      "display": null,
      "flex": null,
      "flex_flow": null,
      "grid_area": null,
      "grid_auto_columns": null,
      "grid_auto_flow": null,
      "grid_auto_rows": null,
      "grid_column": null,
      "grid_gap": null,
      "grid_row": null,
      "grid_template_areas": null,
      "grid_template_columns": null,
      "grid_template_rows": null,
      "height": null,
      "justify_content": null,
      "justify_items": null,
      "left": null,
      "margin": null,
      "max_height": null,
      "max_width": null,
      "min_height": null,
      "min_width": null,
      "object_fit": null,
      "object_position": null,
      "order": null,
      "overflow": null,
      "overflow_x": null,
      "overflow_y": null,
      "padding": null,
      "right": null,
      "top": null,
      "visibility": null,
      "width": null
     }
    },
    "3d281faa0fe84708b35d54bff19e4a85": {
     "model_module": "@jupyter-widgets/controls",
     "model_module_version": "1.5.0",
     "model_name": "DescriptionStyleModel",
     "state": {
      "_model_module": "@jupyter-widgets/controls",
      "_model_module_version": "1.5.0",
      "_model_name": "DescriptionStyleModel",
      "_view_count": null,
      "_view_module": "@jupyter-widgets/base",
      "_view_module_version": "1.2.0",
      "_view_name": "StyleView",
      "description_width": ""
     }
    },
    "40490e951d044a48bca8df1459b6ffed": {
     "model_module": "@jupyter-widgets/controls",
     "model_module_version": "1.5.0",
     "model_name": "DescriptionStyleModel",
     "state": {
      "_model_module": "@jupyter-widgets/controls",
      "_model_module_version": "1.5.0",
      "_model_name": "DescriptionStyleModel",
      "_view_count": null,
      "_view_module": "@jupyter-widgets/base",
      "_view_module_version": "1.2.0",
      "_view_name": "StyleView",
      "description_width": ""
     }
    },
    "655d9bea2cea4a30ae152b246aa7f214": {
     "model_module": "@jupyter-widgets/controls",
     "model_module_version": "1.5.0",
     "model_name": "HTMLModel",
     "state": {
      "_dom_classes": [],
      "_model_module": "@jupyter-widgets/controls",
      "_model_module_version": "1.5.0",
      "_model_name": "HTMLModel",
      "_view_count": null,
      "_view_module": "@jupyter-widgets/controls",
      "_view_module_version": "1.5.0",
      "_view_name": "HTMLView",
      "description": "",
      "description_tooltip": null,
      "layout": "IPY_MODEL_e446a3c3aa354ac09a1c23a3f7aaeaa2",
      "placeholder": "​",
      "style": "IPY_MODEL_40490e951d044a48bca8df1459b6ffed",
      "value": " 749/749 [02:48&lt;00:00,  6.30it/s]"
     }
    },
    "75dc8178142645bd99ddf9683862ae1c": {
     "model_module": "@jupyter-widgets/controls",
     "model_module_version": "1.5.0",
     "model_name": "HTMLModel",
     "state": {
      "_dom_classes": [],
      "_model_module": "@jupyter-widgets/controls",
      "_model_module_version": "1.5.0",
      "_model_name": "HTMLModel",
      "_view_count": null,
      "_view_module": "@jupyter-widgets/controls",
      "_view_module_version": "1.5.0",
      "_view_name": "HTMLView",
      "description": "",
      "description_tooltip": null,
      "layout": "IPY_MODEL_ebcd178f6703483d94b8c29a0a3f4869",
      "placeholder": "​",
      "style": "IPY_MODEL_3d281faa0fe84708b35d54bff19e4a85",
      "value": "100%"
     }
    },
    "7a07b3970f954faf8ab6785cee1d778e": {
     "model_module": "@jupyter-widgets/controls",
     "model_module_version": "1.5.0",
     "model_name": "ProgressStyleModel",
     "state": {
      "_model_module": "@jupyter-widgets/controls",
      "_model_module_version": "1.5.0",
      "_model_name": "ProgressStyleModel",
      "_view_count": null,
      "_view_module": "@jupyter-widgets/base",
      "_view_module_version": "1.2.0",
      "_view_name": "StyleView",
      "bar_color": null,
      "description_width": ""
     }
    },
    "dce3e4f400c143618fe715db583538f9": {
     "model_module": "@jupyter-widgets/base",
     "model_module_version": "1.2.0",
     "model_name": "LayoutModel",
     "state": {
      "_model_module": "@jupyter-widgets/base",
      "_model_module_version": "1.2.0",
      "_model_name": "LayoutModel",
      "_view_count": null,
      "_view_module": "@jupyter-widgets/base",
      "_view_module_version": "1.2.0",
      "_view_name": "LayoutView",
      "align_content": null,
      "align_items": null,
      "align_self": null,
      "border": null,
      "bottom": null,
      "display": null,
      "flex": null,
      "flex_flow": null,
      "grid_area": null,
      "grid_auto_columns": null,
      "grid_auto_flow": null,
      "grid_auto_rows": null,
      "grid_column": null,
      "grid_gap": null,
      "grid_row": null,
      "grid_template_areas": null,
      "grid_template_columns": null,
      "grid_template_rows": null,
      "height": null,
      "justify_content": null,
      "justify_items": null,
      "left": null,
      "margin": null,
      "max_height": null,
      "max_width": null,
      "min_height": null,
      "min_width": null,
      "object_fit": null,
      "object_position": null,
      "order": null,
      "overflow": null,
      "overflow_x": null,
      "overflow_y": null,
      "padding": null,
      "right": null,
      "top": null,
      "visibility": null,
      "width": null
     }
    },
    "e446a3c3aa354ac09a1c23a3f7aaeaa2": {
     "model_module": "@jupyter-widgets/base",
     "model_module_version": "1.2.0",
     "model_name": "LayoutModel",
     "state": {
      "_model_module": "@jupyter-widgets/base",
      "_model_module_version": "1.2.0",
      "_model_name": "LayoutModel",
      "_view_count": null,
      "_view_module": "@jupyter-widgets/base",
      "_view_module_version": "1.2.0",
      "_view_name": "LayoutView",
      "align_content": null,
      "align_items": null,
      "align_self": null,
      "border": null,
      "bottom": null,
      "display": null,
      "flex": null,
      "flex_flow": null,
      "grid_area": null,
      "grid_auto_columns": null,
      "grid_auto_flow": null,
      "grid_auto_rows": null,
      "grid_column": null,
      "grid_gap": null,
      "grid_row": null,
      "grid_template_areas": null,
      "grid_template_columns": null,
      "grid_template_rows": null,
      "height": null,
      "justify_content": null,
      "justify_items": null,
      "left": null,
      "margin": null,
      "max_height": null,
      "max_width": null,
      "min_height": null,
      "min_width": null,
      "object_fit": null,
      "object_position": null,
      "order": null,
      "overflow": null,
      "overflow_x": null,
      "overflow_y": null,
      "padding": null,
      "right": null,
      "top": null,
      "visibility": null,
      "width": null
     }
    },
    "ebcd178f6703483d94b8c29a0a3f4869": {
     "model_module": "@jupyter-widgets/base",
     "model_module_version": "1.2.0",
     "model_name": "LayoutModel",
     "state": {
      "_model_module": "@jupyter-widgets/base",
      "_model_module_version": "1.2.0",
      "_model_name": "LayoutModel",
      "_view_count": null,
      "_view_module": "@jupyter-widgets/base",
      "_view_module_version": "1.2.0",
      "_view_name": "LayoutView",
      "align_content": null,
      "align_items": null,
      "align_self": null,
      "border": null,
      "bottom": null,
      "display": null,
      "flex": null,
      "flex_flow": null,
      "grid_area": null,
      "grid_auto_columns": null,
      "grid_auto_flow": null,
      "grid_auto_rows": null,
      "grid_column": null,
      "grid_gap": null,
      "grid_row": null,
      "grid_template_areas": null,
      "grid_template_columns": null,
      "grid_template_rows": null,
      "height": null,
      "justify_content": null,
      "justify_items": null,
      "left": null,
      "margin": null,
      "max_height": null,
      "max_width": null,
      "min_height": null,
      "min_width": null,
      "object_fit": null,
      "object_position": null,
      "order": null,
      "overflow": null,
      "overflow_x": null,
      "overflow_y": null,
      "padding": null,
      "right": null,
      "top": null,
      "visibility": null,
      "width": null
     }
    }
   }
  }
 },
 "nbformat": 4,
 "nbformat_minor": 1
}
